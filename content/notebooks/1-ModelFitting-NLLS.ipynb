{
 "cells": [
  {
   "cell_type": "code",
   "execution_count": 627,
   "metadata": {
    "tags": [
     "remove-cell"
    ]
   },
   "outputs": [],
   "source": [
    "library(repr) ; options(repr.plot.width = 4, repr.plot.height = 4) # Change plot sizes (in cm)"
   ]
  },
  {
   "cell_type": "markdown",
   "metadata": {},
   "source": [
    "# Model Fitting using Non-linear Least-squares"
   ]
  },
  {
   "cell_type": "markdown",
   "metadata": {},
   "source": [
    "## Introduction\n",
    "\n",
    "In this Chapter, you will learn to fit non-linear mathematical models to data using Non-Linear Least Squares (NLLS).\n",
    "\n",
    "Specifically, you will learn to\n",
    "\n",
    "* Visualize the data and the mathematical model you want to fit to them\n",
    "* Fit a non-linear model\n",
    "* Assess the quality of the fit, and whether the model is appropriate for your data\n",
    "* Compare and select between competing models\n",
    "\n",
    "We will work through various examples. These assume that you have at least a conceptual understanding of what Linear vs Non-linear models are, how they are fitted to data, and how the fits can be assessed statistically. You may want to see the [Linear Models lecture](https://github.com/mhasoba/TheMulQuaBio/tree/master/content/lectures/LinearModels) (you can also watch the [video](https://drive.google.com/drive/folders/12Sj56wHX6vcAnp9GE9qQ1gIXbn7QRHU2?usp=sharing)), and the [NLLS Lecture](https://github.com/mhasoba/TheMulQuaBio/blob/master/content/lectures/NLLS) lecture first (you can also watch the [video]()). \n",
    "\n",
    "You may also (optionally) want to see the  [lecture on model fitting in Ecology and Evolution in general](https://github.com/mhasoba/TheMulQuaBio/tree/master/content/lectures/ModelFitting)). "
   ]
  },
  {
   "cell_type": "markdown",
   "metadata": {},
   "source": [
    "We will use R. For starters, clear all variables and graphic devices and load necessary packages:"
   ]
  },
  {
   "cell_type": "code",
   "execution_count": 628,
   "metadata": {},
   "outputs": [],
   "source": [
    "rm(list = ls())\n",
    "graphics.off()"
   ]
  },
  {
   "cell_type": "markdown",
   "metadata": {},
   "source": [
    "## Traits data as an example \n",
    "\n",
    "Our first set of examples will focus on traits. \n",
    "\n",
    "A trait is any measurable feature of an individual organism. This includes physical traits (e.g., morphology, body mass, wing length), performance traits (e.g., biochemical kinetics, respiration rate, body velocity, fecundity), and behavioral traits (e.g., feeding preference, foraging strategy, mate choice). All natural populations show variation in traits across individuals. A trait is functional when it directly (e.g., mortality rate) or indirectly (e.g., somatic development or growth rate) determines individual fitness. Therefore, variation in (functional) traits can generate variation in the rate of increase and persistence of populations. When measured in the context of life cycles, without considering interactions with other organisms (e.g., predators or prey of the focal population), functional traits are typically called life history traits (such as mortality rate and fecundity). Other traits determine interactions both within the focal population (e.g., intra-specific interference or mating frequency) and between the focal population/species and others, including the species which may act as resources (prey, for example). Thus both life history and interaction traits determine population fitness and therefore abundance, which ultimately influences dynamics and functioning of the wider ecosystem, such as carbon fixation rate or disease transmission rate. "
   ]
  },
  {
   "cell_type": "markdown",
   "metadata": {},
   "source": [
    "## Biochemical Kinetics\n",
    "\n",
    "The properties of an organism's metabolic pathways, and the underlying (enzyme-mediated) biochemical reactions (kinetics) are arguably its most fundamental \"traits\", because these drive all \"performance\" traits, from photosynthesis and respiration, to movement and growth rate.\n",
    "\n",
    "The [Michaelis-Menten](https://en.wikipedia.org/wiki/Michaelis%E2%80%93Menten_kinetics) model is widely used to quantify reaction kinetics data and estimate key biochemical parameters. This model relates biochemical reaction rate ($V$) (rate of formation of the product of the reaction), to concentration of the substrate ($S$):\n",
    "\n",
    "$$ \n",
    "V = \\frac{V_{\\max} S}{K_M + S} \n",
    "$$(eq:M-M)\n",
    "\n",
    "Here,\n",
    "\n",
    "* $V_{\\max}$ is the maximum rate that can be achieved in the reaction system, which happens at saturating substrate concentration, and \n",
    "* $K_M$ is the Michaelis or half-saturation constant, defined as the substrate concentration at which the reaction rate is half of $V_{\\max }$. \n",
    "\n",
    "Biochemical reactions involving a single substrate are often well fitted by the Michaelis-Menten kinetics, suggesting that its assumptions are often valid.\n",
    "\n",
    "<img src=\"./graphics/MM.png\" alt=\"Michaelis-Menten model\" width=\"400px\">\n",
    "\n",
    "<small><center>The Michaelis-Menten model.</center></small>\n",
    "\n",
    "Let's fit the Michaelis-Menten model to some data. \n",
    "\n",
    "\n",
    "### Generating data\n",
    "\n",
    "Instead of using real experimental data, we will actually *generate* some \"data\" because that way we know exactly what the errors in the data are. You can also import and use your own dataset for the fitting steps further below.\n",
    "\n",
    "We can generate some data as follows:"
   ]
  },
  {
   "cell_type": "code",
   "execution_count": 629,
   "metadata": {
    "scrolled": true
   },
   "outputs": [
    {
     "data": {
      "text/html": [
       "<style>\n",
       ".list-inline {list-style: none; margin:0; padding: 0}\n",
       ".list-inline>li {display: inline-block}\n",
       ".list-inline>li:not(:last-child)::after {content: \"\\00b7\"; padding: 0 .5ex}\n",
       "</style>\n",
       "<ol class=list-inline><li>1</li><li>2</li><li>3</li><li>4</li><li>5</li><li>6</li><li>7</li><li>8</li><li>9</li><li>10</li><li>11</li><li>12</li><li>13</li><li>14</li><li>15</li><li>16</li><li>17</li><li>18</li><li>19</li><li>20</li><li>21</li><li>22</li><li>23</li><li>24</li><li>25</li><li>26</li><li>27</li><li>28</li><li>29</li><li>30</li><li>31</li><li>32</li><li>33</li><li>34</li><li>35</li><li>36</li><li>37</li><li>38</li><li>39</li><li>40</li><li>41</li><li>42</li><li>43</li><li>44</li><li>45</li><li>46</li><li>47</li><li>48</li><li>49</li><li>50</li></ol>\n"
      ],
      "text/latex": [
       "\\begin{enumerate*}\n",
       "\\item 1\n",
       "\\item 2\n",
       "\\item 3\n",
       "\\item 4\n",
       "\\item 5\n",
       "\\item 6\n",
       "\\item 7\n",
       "\\item 8\n",
       "\\item 9\n",
       "\\item 10\n",
       "\\item 11\n",
       "\\item 12\n",
       "\\item 13\n",
       "\\item 14\n",
       "\\item 15\n",
       "\\item 16\n",
       "\\item 17\n",
       "\\item 18\n",
       "\\item 19\n",
       "\\item 20\n",
       "\\item 21\n",
       "\\item 22\n",
       "\\item 23\n",
       "\\item 24\n",
       "\\item 25\n",
       "\\item 26\n",
       "\\item 27\n",
       "\\item 28\n",
       "\\item 29\n",
       "\\item 30\n",
       "\\item 31\n",
       "\\item 32\n",
       "\\item 33\n",
       "\\item 34\n",
       "\\item 35\n",
       "\\item 36\n",
       "\\item 37\n",
       "\\item 38\n",
       "\\item 39\n",
       "\\item 40\n",
       "\\item 41\n",
       "\\item 42\n",
       "\\item 43\n",
       "\\item 44\n",
       "\\item 45\n",
       "\\item 46\n",
       "\\item 47\n",
       "\\item 48\n",
       "\\item 49\n",
       "\\item 50\n",
       "\\end{enumerate*}\n"
      ],
      "text/markdown": [
       "1. 1\n",
       "2. 2\n",
       "3. 3\n",
       "4. 4\n",
       "5. 5\n",
       "6. 6\n",
       "7. 7\n",
       "8. 8\n",
       "9. 9\n",
       "10. 10\n",
       "11. 11\n",
       "12. 12\n",
       "13. 13\n",
       "14. 14\n",
       "15. 15\n",
       "16. 16\n",
       "17. 17\n",
       "18. 18\n",
       "19. 19\n",
       "20. 20\n",
       "21. 21\n",
       "22. 22\n",
       "23. 23\n",
       "24. 24\n",
       "25. 25\n",
       "26. 26\n",
       "27. 27\n",
       "28. 28\n",
       "29. 29\n",
       "30. 30\n",
       "31. 31\n",
       "32. 32\n",
       "33. 33\n",
       "34. 34\n",
       "35. 35\n",
       "36. 36\n",
       "37. 37\n",
       "38. 38\n",
       "39. 39\n",
       "40. 40\n",
       "41. 41\n",
       "42. 42\n",
       "43. 43\n",
       "44. 44\n",
       "45. 45\n",
       "46. 46\n",
       "47. 47\n",
       "48. 48\n",
       "49. 49\n",
       "50. 50\n",
       "\n",
       "\n"
      ],
      "text/plain": [
       " [1]  1  2  3  4  5  6  7  8  9 10 11 12 13 14 15 16 17 18 19 20 21 22 23 24 25\n",
       "[26] 26 27 28 29 30 31 32 33 34 35 36 37 38 39 40 41 42 43 44 45 46 47 48 49 50"
      ]
     },
     "metadata": {},
     "output_type": "display_data"
    }
   ],
   "source": [
    "S_data <- seq(1,50,1) # Generate a sequence of substrate concentrations\n",
    "S_data"
   ]
  },
  {
   "cell_type": "code",
   "execution_count": 630,
   "metadata": {
    "scrolled": true
   },
   "outputs": [
    {
     "data": {
      "image/png": "[encoded data removed]",
      "text/plain": [
       "plot without title"
      ]
     },
     "metadata": {
      "image/png": {
       "height": 240,
       "width": 240
      }
     },
     "output_type": "display_data"
    }
   ],
   "source": [
    "V_data <- ((12.5 * S_data)/(7.1 + S_data)) # Generate a Michaelis-Menten response with V_max = 12.5 and K_M = 7.1\n",
    "plot(S_data, V_data)"
   ]
  },
  {
   "cell_type": "markdown",
   "metadata": {},
   "source": [
    "Note that our choice of $V_{\\max} = 12.5$ and $K_M = 7.1$ is completely arbitrary. As long as we make sure that $V_{\\max} > 0$, $K_H > 0$, and $K_M$ lies well within the lower half of the the range of substrate concentrations (0-50), these \"data\" will be physically biologically sensible.\n",
    "\n",
    "Now let's add some random (normally-distributed) fluctuations to the data to emulate experimental / measurement error:"
   ]
  },
  {
   "cell_type": "code",
   "execution_count": 631,
   "metadata": {
    "scrolled": true
   },
   "outputs": [
    {
     "data": {
      "image/png": "[encoded data removed]",
      "text/plain": [
       "plot without title"
      ]
     },
     "metadata": {
      "image/png": {
       "height": 240,
       "width": 240
      }
     },
     "output_type": "display_data"
    }
   ],
   "source": [
    "set.seed(1456) # To get the same random fluctuations in the \"data\" every time\n",
    "V_data <- V_data + rnorm(50,0,1) # Add random fluctuations to emulate error with standard deviation of 0.5\n",
    "plot(S_data, V_data)"
   ]
  },
  {
   "cell_type": "markdown",
   "metadata": {},
   "source": [
    "That looks real!"
   ]
  },
  {
   "cell_type": "markdown",
   "metadata": {},
   "source": [
    "### Fitting the model\n",
    "\n",
    "Now, fit the model to the data:"
   ]
  },
  {
   "cell_type": "code",
   "execution_count": 632,
   "metadata": {
    "scrolled": false
   },
   "outputs": [
    {
     "name": "stderr",
     "output_type": "stream",
     "text": [
      "Warning message in nls(V_data ~ V_max * S_data/(K_M + S_data)):\n",
      "“No starting values specified for some parameters.\n",
      "Initializing ‘V_max’, ‘K_M’ to '1.'.\n",
      "Consider specifying 'start' or using a selfStart model”\n"
     ]
    }
   ],
   "source": [
    "MM_model <- nls(V_data ~ V_max * S_data / (K_M + S_data))"
   ]
  },
  {
   "cell_type": "markdown",
   "metadata": {},
   "source": [
    "This warning arises because `nls` requires \"starting values\" for the parameters (two in this case: `V_max` and `K_M`) to start searching for optimal combinations of parameter values (ones that minimize the RSS). Indeed, all NLLS fitting functions / algorithms require this. If you do not provide starting values, `nls` gives you a warning (as above) and uses a starting value of 1 for every parameter by default. For simple models, despite the warning, this works well enough.\n",
    "\n",
    "```{tip}\n",
    "Before proceeding further, have a look at what `nls()`'s arguments are using `?nls`, or looking at the documentation [online](https://www.rdocumentation.org/packages/stats/versions/3.6.2/topics/nls).\n",
    "```\n",
    "\n",
    "We will address the issue of starting values soon enough, but first let's look at how good the fit that we obtained looks. The first thing to do is to see how well the model fitted the data, for which plotting is the best  first option:"
   ]
  },
  {
   "cell_type": "code",
   "execution_count": 633,
   "metadata": {
    "scrolled": false
   },
   "outputs": [
    {
     "data": {
      "image/png": "[encoded data removed]",
      "text/plain": [
       "plot without title"
      ]
     },
     "metadata": {
      "image/png": {
       "height": 240,
       "width": 240
      }
     },
     "output_type": "display_data"
    }
   ],
   "source": [
    "plot(S_data,V_data, xlab = \"Substrate Concentration\", ylab = \"Reaction Rate\")  # first plot the data \n",
    "lines(S_data,predict(MM_model),lty=1,col=\"blue\",lwd=2) # now overlay the fitted model "
   ]
  },
  {
   "cell_type": "markdown",
   "metadata": {},
   "source": [
    "This looks pretty good. \n",
    "\n",
    "Note that we used we used the `predict()` function here just as we did in any of the linear models chapters (e.g., [here](16-MulExp:Predicted-values)). \n",
    "\n",
    "```{note}\n",
    "In general, you can use most of the same commands/functions (e.g., `predict()` and `summary()`) on the output of a `nls()` model fitting object as you would on a `lm()` model fitting object.\n",
    "```\n",
    "\n",
    "Now lets get some stats of this NLLS fit. Having obtained the fit object (`MM_model`), we can use `summary()` just like we would for a `lm()` fit object: "
   ]
  },
  {
   "cell_type": "code",
   "execution_count": 634,
   "metadata": {
    "scrolled": false
   },
   "outputs": [
    {
     "data": {
      "text/plain": [
       "\n",
       "Formula: V_data ~ V_max * S_data/(K_M + S_data)\n",
       "\n",
       "Parameters:\n",
       "      Estimate Std. Error t value Pr(>|t|)    \n",
       "V_max  13.5041     0.5345  25.265  < 2e-16 ***\n",
       "K_M     9.4085     1.3198   7.128 4.67e-09 ***\n",
       "---\n",
       "Signif. codes:  0 ‘***’ 0.001 ‘**’ 0.01 ‘*’ 0.05 ‘.’ 0.1 ‘ ’ 1\n",
       "\n",
       "Residual standard error: 1.001 on 48 degrees of freedom\n",
       "\n",
       "Number of iterations to convergence: 7 \n",
       "Achieved convergence tolerance: 1.938e-06\n"
      ]
     },
     "metadata": {},
     "output_type": "display_data"
    }
   ],
   "source": [
    "summary(MM_model)"
   ]
  },
  {
   "cell_type": "markdown",
   "metadata": {},
   "source": [
    "This looks a lot like the output of a linear model, and to be specific, of a [Linear Regression](./14-regress.ipynb). For starters, compare the above output with the output of `summary(genomeSizeModelDragon)` in [this section](regress:perform) of the Linear Regression chapter. \n",
    "\n",
    "So here are the main things to note about the output of `summary()` of an `nls()` model object:\n",
    "\n",
    "* `Estimate`s are, as in the output of the `lm()` function for fitting linear models, the estimated values of the coefficients of the model that you fitted ($V_(\\max)$ and $K_M$). Note that although we generated our data using $V_{\\max} = 12.5$ and $K_M = 7.1$, the actual coefficients are quite different from what we are getting with the NLLS fitting ($\\hat{V_{\\max} = 13.5$ and $\\hat{K}_M = 9.4$). This is because we introduced random (normally-distributed) errors. This tell you something about how experimental and/or measurement errors can distort your image of the underlying mechanism or process.   \n",
    "* `Std. Error`, `t value`, and `Pr(>|t|)` and `Residual standard error` have the same interpretation as in the output of `lm()` (please look back at the [Linear Regression Chapter](./14-regress.ipynb))\n",
    "* `Number of iterations to convergence` tells you how many times the NLLS algorithm had to adjust the parameter values till it managed to find a solution that minimizes the Residual Sum of Squares (RSS)\n",
    "* `Achieved convergence tolerance` tells you on what basis the algorithm decided that it was close enough to the a solution; basically if the RSS does not improve more than a certain threshold despite parameter adjustments, the algorithm stops searching. This may or may not be close to an optimal solution (but in this case it is).\n",
    "\n",
    "The last two items are specific to the output of an `nls()` fitting `summary()`, because unlike Ordinary Least Squares (OLS), which is what we used for Linear regression, NLLS is not an *exact* procedure, and the fitting requires computer simulations; revisit the [Lecture](https://github.com/mhasoba/TheMulQuaBio/blob/master/lectures/NLLS) for an explanation of this. This is all you need to know for now. As such, you do not need to report these last two items when presenting the results of an NLLS fit, but they are useful for problem solving in case the fitting does not work (more on this below). \n",
    "\n",
    "As noted above, you can use the same sort of commands on a `nls()` fitting result as you can on a `lm()` object.  \n",
    "\n",
    "For example, you can get just the values of the estimated coefficients using:   "
   ]
  },
  {
   "cell_type": "code",
   "execution_count": 635,
   "metadata": {
    "scrolled": false
   },
   "outputs": [
    {
     "data": {
      "text/html": [
       "<style>\n",
       ".dl-inline {width: auto; margin:0; padding: 0}\n",
       ".dl-inline>dt, .dl-inline>dd {float: none; width: auto; display: inline-block}\n",
       ".dl-inline>dt::after {content: \":\\0020\"; padding-right: .5ex}\n",
       ".dl-inline>dt:not(:first-of-type) {padding-left: .5ex}\n",
       "</style><dl class=dl-inline><dt>V_max</dt><dd>13.5041180721635</dd><dt>K_M</dt><dd>9.40846157841925</dd></dl>\n"
      ],
      "text/latex": [
       "\\begin{description*}\n",
       "\\item[V\\textbackslash{}\\_max] 13.5041180721635\n",
       "\\item[K\\textbackslash{}\\_M] 9.40846157841925\n",
       "\\end{description*}\n"
      ],
      "text/markdown": [
       "V_max\n",
       ":   13.5041180721635K_M\n",
       ":   9.40846157841925\n",
       "\n"
      ],
      "text/plain": [
       "    V_max       K_M \n",
       "13.504118  9.408462 "
      ]
     },
     "metadata": {},
     "output_type": "display_data"
    }
   ],
   "source": [
    "coef(MM_model)"
   ]
  },
  {
   "cell_type": "markdown",
   "metadata": {},
   "source": [
    "Thus, much of the output of NLLS fitting using `nls()` is analogous to the output of an `lm()`. However, further statistical inference here cannot be done using Analysis of Variance (ANOVA), because the model is not a Linear Model. Try `anova(MM_model)`, and see what happens. We will address statistical inference with NLLS model fitting further below (with a different example).\n",
    "\n",
    "## Confidence Intervals \n",
    "\n",
    "One particularly useful thing you can do after NLLS fitting is to calculate/construct the confidence intervals (CI's) around the estimated parameters in our fitted model, analogous to how we would in the OLS fitting used for Linear Models: "
   ]
  },
  {
   "cell_type": "code",
   "execution_count": 636,
   "metadata": {},
   "outputs": [
    {
     "name": "stderr",
     "output_type": "stream",
     "text": [
      "Waiting for profiling to be done...\n",
      "\n"
     ]
    },
    {
     "data": {
      "text/html": [
       "<table>\n",
       "<caption>A matrix: 2 × 2 of type dbl</caption>\n",
       "<thead>\n",
       "\t<tr><th></th><th scope=col>2.5%</th><th scope=col>97.5%</th></tr>\n",
       "</thead>\n",
       "<tbody>\n",
       "\t<tr><th scope=row>V_max</th><td>12.538677</td><td>14.66093</td></tr>\n",
       "\t<tr><th scope=row>K_M</th><td> 7.124685</td><td>12.36158</td></tr>\n",
       "</tbody>\n",
       "</table>\n"
      ],
      "text/latex": [
       "A matrix: 2 × 2 of type dbl\n",
       "\\begin{tabular}{r|ll}\n",
       "  & 2.5\\% & 97.5\\%\\\\\n",
       "\\hline\n",
       "\tV\\_max & 12.538677 & 14.66093\\\\\n",
       "\tK\\_M &  7.124685 & 12.36158\\\\\n",
       "\\end{tabular}\n"
      ],
      "text/markdown": [
       "\n",
       "A matrix: 2 × 2 of type dbl\n",
       "\n",
       "| <!--/--> | 2.5% | 97.5% |\n",
       "|---|---|---|\n",
       "| V_max | 12.538677 | 14.66093 |\n",
       "| K_M |  7.124685 | 12.36158 |\n",
       "\n"
      ],
      "text/plain": [
       "      2.5%      97.5%   \n",
       "V_max 12.538677 14.66093\n",
       "K_M    7.124685 12.36158"
      ]
     },
     "metadata": {},
     "output_type": "display_data"
    }
   ],
   "source": [
    "confint(MM_model)"
   ]
  },
  {
   "cell_type": "markdown",
   "metadata": {},
   "source": [
    "The `Waiting for profiling to be done...` message reflects the fact that calculating the standard errors from which the CI's are calculated requires a particular computational procedure (which we will not go into here) when it comes to NLLS fits. Calculating confidence intervals can be useful because, as you learned [here](13-t_F_tests:CI), [here](13-t_F_tests:CI2), and [here](15-anova:CI) (among other places) you can use a coefficient/parameter estimate's confidence intervals to test whether it is significantly different from some reference value. Note that the intervals for `K_M` do not include the original value of $K_M = 7.1$ that we used to generate the data!. \n",
    "\n",
    "Also, the intervals should not include zero for the coefficient to be statistically significant in itself, that is, different from zero.   "
   ]
  },
  {
   "cell_type": "markdown",
   "metadata": {},
   "source": [
    "## R-squared values\n",
    "\n",
    "To put it simply, unlike an R$^2$ value obtained by fitting a linear model, that obtained from NLLS fitting is not reliable, and should not be used. The reason for this is somewhat technical (e.g., see this [paper](https://dx.doi.org/10.1186%2F1471-2210-10-6)) and we won't go into it here. But basically, NLLS R$^2$ values do not always accurately reflect the quality of fit, and definitely cannot be used to select between competing models (Model selection, as you learned [previously](./18-ModelSimp.ipynb)). Indeed R$^2$ values obtained from NLLS fitting even be negative when the model fits very poorly! We will learn more about model selection with non-linear models later below."
   ]
  },
  {
   "cell_type": "markdown",
   "metadata": {},
   "source": [
    "## The starting values problem\n",
    "\n",
    "Now let's revisit the issue of starting values in NLLS fitting. Previously, we fitted the Michaelis-Menten Model without any starting values, and R gave us a warning but managed to fit the model to our synthetic \"data\" using default starting values. \n",
    "\n",
    "Lets try the NLLS fitting again, but with some particular starting values:"
   ]
  },
  {
   "cell_type": "code",
   "execution_count": 637,
   "metadata": {},
   "outputs": [],
   "source": [
    "MM_model2 <- nls(V_data ~ V_max * S_data / (K_M + S_data), start = list(V_max = 2, K_M = 2))"
   ]
  },
  {
   "cell_type": "markdown",
   "metadata": {},
   "source": [
    "Note that unlike before, we got no warning message about starting values.\n",
    "\n",
    "Let's compare the coefficient estimates from our two different model fits to the same dataset:"
   ]
  },
  {
   "cell_type": "code",
   "execution_count": 638,
   "metadata": {
    "scrolled": false
   },
   "outputs": [
    {
     "data": {
      "text/html": [
       "<style>\n",
       ".dl-inline {width: auto; margin:0; padding: 0}\n",
       ".dl-inline>dt, .dl-inline>dd {float: none; width: auto; display: inline-block}\n",
       ".dl-inline>dt::after {content: \":\\0020\"; padding-right: .5ex}\n",
       ".dl-inline>dt:not(:first-of-type) {padding-left: .5ex}\n",
       "</style><dl class=dl-inline><dt>V_max</dt><dd>13.5041180721635</dd><dt>K_M</dt><dd>9.40846157841925</dd></dl>\n"
      ],
      "text/latex": [
       "\\begin{description*}\n",
       "\\item[V\\textbackslash{}\\_max] 13.5041180721635\n",
       "\\item[K\\textbackslash{}\\_M] 9.40846157841925\n",
       "\\end{description*}\n"
      ],
      "text/markdown": [
       "V_max\n",
       ":   13.5041180721635K_M\n",
       ":   9.40846157841925\n",
       "\n"
      ],
      "text/plain": [
       "    V_max       K_M \n",
       "13.504118  9.408462 "
      ]
     },
     "metadata": {},
     "output_type": "display_data"
    },
    {
     "data": {
      "text/html": [
       "<style>\n",
       ".dl-inline {width: auto; margin:0; padding: 0}\n",
       ".dl-inline>dt, .dl-inline>dd {float: none; width: auto; display: inline-block}\n",
       ".dl-inline>dt::after {content: \":\\0020\"; padding-right: .5ex}\n",
       ".dl-inline>dt:not(:first-of-type) {padding-left: .5ex}\n",
       "</style><dl class=dl-inline><dt>V_max</dt><dd>13.5041046181521</dd><dt>K_M</dt><dd>9.40842557733051</dd></dl>\n"
      ],
      "text/latex": [
       "\\begin{description*}\n",
       "\\item[V\\textbackslash{}\\_max] 13.5041046181521\n",
       "\\item[K\\textbackslash{}\\_M] 9.40842557733051\n",
       "\\end{description*}\n"
      ],
      "text/markdown": [
       "V_max\n",
       ":   13.5041046181521K_M\n",
       ":   9.40842557733051\n",
       "\n"
      ],
      "text/plain": [
       "    V_max       K_M \n",
       "13.504105  9.408426 "
      ]
     },
     "metadata": {},
     "output_type": "display_data"
    }
   ],
   "source": [
    "coef(MM_model)\n",
    "coef(MM_model2)"
   ]
  },
  {
   "cell_type": "markdown",
   "metadata": {},
   "source": [
    "Not too different, but not exactly the same! \n",
    "\n",
    "In contrast, when you fit linear models you will get exactly the same coefficient estimates every single time, because OLS is an *exact* procedure."
   ]
  },
  {
   "cell_type": "markdown",
   "metadata": {},
   "source": [
    "Now, let's try even more different start values:"
   ]
  },
  {
   "cell_type": "code",
   "execution_count": 639,
   "metadata": {},
   "outputs": [],
   "source": [
    "MM_model3 <- nls(V_data ~ V_max * S_data / (K_M + S_data), start = list(V_max = .01, K_M = 10))"
   ]
  },
  {
   "cell_type": "markdown",
   "metadata": {},
   "source": [
    "Compare the coefficients of this model fit to the two previous ones: "
   ]
  },
  {
   "cell_type": "code",
   "execution_count": 640,
   "metadata": {
    "scrolled": true
   },
   "outputs": [
    {
     "data": {
      "text/html": [
       "<style>\n",
       ".dl-inline {width: auto; margin:0; padding: 0}\n",
       ".dl-inline>dt, .dl-inline>dd {float: none; width: auto; display: inline-block}\n",
       ".dl-inline>dt::after {content: \":\\0020\"; padding-right: .5ex}\n",
       ".dl-inline>dt:not(:first-of-type) {padding-left: .5ex}\n",
       "</style><dl class=dl-inline><dt>V_max</dt><dd>13.5041180721635</dd><dt>K_M</dt><dd>9.40846157841925</dd></dl>\n"
      ],
      "text/latex": [
       "\\begin{description*}\n",
       "\\item[V\\textbackslash{}\\_max] 13.5041180721635\n",
       "\\item[K\\textbackslash{}\\_M] 9.40846157841925\n",
       "\\end{description*}\n"
      ],
      "text/markdown": [
       "V_max\n",
       ":   13.5041180721635K_M\n",
       ":   9.40846157841925\n",
       "\n"
      ],
      "text/plain": [
       "    V_max       K_M \n",
       "13.504118  9.408462 "
      ]
     },
     "metadata": {},
     "output_type": "display_data"
    },
    {
     "data": {
      "text/html": [
       "<style>\n",
       ".dl-inline {width: auto; margin:0; padding: 0}\n",
       ".dl-inline>dt, .dl-inline>dd {float: none; width: auto; display: inline-block}\n",
       ".dl-inline>dt::after {content: \":\\0020\"; padding-right: .5ex}\n",
       ".dl-inline>dt:not(:first-of-type) {padding-left: .5ex}\n",
       "</style><dl class=dl-inline><dt>V_max</dt><dd>13.5041046181521</dd><dt>K_M</dt><dd>9.40842557733051</dd></dl>\n"
      ],
      "text/latex": [
       "\\begin{description*}\n",
       "\\item[V\\textbackslash{}\\_max] 13.5041046181521\n",
       "\\item[K\\textbackslash{}\\_M] 9.40842557733051\n",
       "\\end{description*}\n"
      ],
      "text/markdown": [
       "V_max\n",
       ":   13.5041046181521K_M\n",
       ":   9.40842557733051\n",
       "\n"
      ],
      "text/plain": [
       "    V_max       K_M \n",
       "13.504105  9.408426 "
      ]
     },
     "metadata": {},
     "output_type": "display_data"
    },
    {
     "data": {
      "text/html": [
       "<style>\n",
       ".dl-inline {width: auto; margin:0; padding: 0}\n",
       ".dl-inline>dt, .dl-inline>dd {float: none; width: auto; display: inline-block}\n",
       ".dl-inline>dt::after {content: \":\\0020\"; padding-right: .5ex}\n",
       ".dl-inline>dt:not(:first-of-type) {padding-left: .5ex}\n",
       "</style><dl class=dl-inline><dt>V_max</dt><dd>2.95615964317118</dd><dt>K_M</dt><dd>-3.47473176418547</dd></dl>\n"
      ],
      "text/latex": [
       "\\begin{description*}\n",
       "\\item[V\\textbackslash{}\\_max] 2.95615964317118\n",
       "\\item[K\\textbackslash{}\\_M] -3.47473176418547\n",
       "\\end{description*}\n"
      ],
      "text/markdown": [
       "V_max\n",
       ":   2.95615964317118K_M\n",
       ":   -3.47473176418547\n",
       "\n"
      ],
      "text/plain": [
       "    V_max       K_M \n",
       " 2.956160 -3.474732 "
      ]
     },
     "metadata": {},
     "output_type": "display_data"
    }
   ],
   "source": [
    "coef(MM_model)\n",
    "coef(MM_model2)\n",
    "coef(MM_model3)"
   ]
  },
  {
   "cell_type": "markdown",
   "metadata": {},
   "source": [
    "The estimates in our latest model fit are completely different (in fact, `K_M` is negative)! Let's plot this model's and the first model's fit together: "
   ]
  },
  {
   "cell_type": "code",
   "execution_count": 641,
   "metadata": {
    "scrolled": false
   },
   "outputs": [
    {
     "data": {
      "image/png": "[encoded data removed]",
      "text/plain": [
       "plot without title"
      ]
     },
     "metadata": {
      "image/png": {
       "height": 240,
       "width": 240
      }
     },
     "output_type": "display_data"
    }
   ],
   "source": [
    "plot(S_data,V_data)  # first plot the data \n",
    "lines(S_data,predict(MM_model),lty=1,col=\"blue\",lwd=2) # overlay the original model fit\n",
    "lines(S_data,predict(MM_model3),lty=1,col=\"red\",lwd=2) # overlay the latest model fit"
   ]
  },
  {
   "cell_type": "markdown",
   "metadata": {},
   "source": [
    "As you would have guessed from the really funky coefficient estimates that were obtained in `MM_model3`, this is a pretty poor model fit to the data, with the negative value of `K_M` causing the fitted version of the Michaelis-Menten model to behave strangely.\n",
    "\n",
    "Let's try with even more different starting values.  "
   ]
  },
  {
   "cell_type": "code",
   "execution_count": 642,
   "metadata": {
    "scrolled": false
   },
   "outputs": [
    {
     "ename": "ERROR",
     "evalue": "Error in nlsModel(formula, mf, start, wts): singular gradient matrix at initial parameter estimates\n",
     "output_type": "error",
     "traceback": [
      "Error in nlsModel(formula, mf, start, wts): singular gradient matrix at initial parameter estimates\nTraceback:\n",
      "1. nls(V_data ~ V_max * S_data/(K_M + S_data), start = list(V_max = 0, \n .     K_M = 0.1))",
      "2. nlsModel(formula, mf, start, wts)",
      "3. stop(\"singular gradient matrix at initial parameter estimates\")"
     ]
    }
   ],
   "source": [
    "nls(V_data ~ V_max * S_data / (K_M + S_data), start = list(V_max = 0, K_M = 0.1))"
   ]
  },
  {
   "cell_type": "markdown",
   "metadata": {},
   "source": [
    "The `singular gradient matrix at initial parameter estimates` error arises from the fact that the starting values you provided were so far from the optimal solution, that the parameter searching in `nls()` failed at the very first step. The algorithm could not figure out where to go from those starting values. In fact, the starting value we gave it is biologically/ physically impossible, because `V_max` can't really equal 0.  \n",
    "\n",
    "Let's look at some more starting values that can cause the model fitting to fail:  "
   ]
  },
  {
   "cell_type": "code",
   "execution_count": 643,
   "metadata": {},
   "outputs": [
    {
     "ename": "ERROR",
     "evalue": "Error in nls(V_data ~ V_max * S_data/(K_M + S_data), start = list(V_max = 0.1, : step factor 0.000488281 reduced below 'minFactor' of 0.000976562\n",
     "output_type": "error",
     "traceback": [
      "Error in nls(V_data ~ V_max * S_data/(K_M + S_data), start = list(V_max = 0.1, : step factor 0.000488281 reduced below 'minFactor' of 0.000976562\nTraceback:\n",
      "1. nls(V_data ~ V_max * S_data/(K_M + S_data), start = list(V_max = 0.1, \n .     K_M = 100))"
     ]
    }
   ],
   "source": [
    "nls(V_data ~ V_max * S_data / (K_M + S_data), start = list(V_max = 0.1, K_M = 100))"
   ]
  },
  {
   "cell_type": "code",
   "execution_count": null,
   "metadata": {
    "scrolled": true
   },
   "outputs": [],
   "source": [
    "nls(V_data ~ V_max * S_data / (K_M + S_data), start = list(V_max = -0.1, K_M = 100))"
   ]
  },
  {
   "cell_type": "markdown",
   "metadata": {},
   "source": [
    "In both the above cases, the model fitting was able to start, but eventually failed because the starting values were too far from the (approximately) optimal values ($V_{\\max} \\approx 13.5, K_M \\approx 9.4$). \n",
    "\n",
    "And what happens if we start really close to the optimal values? Let's try: "
   ]
  },
  {
   "cell_type": "code",
   "execution_count": 644,
   "metadata": {},
   "outputs": [],
   "source": [
    "MM_model4 <- nls(V_data ~ V_max * S_data / (K_M + S_data), start = list(V_max = 13.5, K_M = 9.4))"
   ]
  },
  {
   "cell_type": "code",
   "execution_count": 645,
   "metadata": {},
   "outputs": [
    {
     "data": {
      "text/html": [
       "<style>\n",
       ".dl-inline {width: auto; margin:0; padding: 0}\n",
       ".dl-inline>dt, .dl-inline>dd {float: none; width: auto; display: inline-block}\n",
       ".dl-inline>dt::after {content: \":\\0020\"; padding-right: .5ex}\n",
       ".dl-inline>dt:not(:first-of-type) {padding-left: .5ex}\n",
       "</style><dl class=dl-inline><dt>V_max</dt><dd>13.5041180721635</dd><dt>K_M</dt><dd>9.40846157841925</dd></dl>\n"
      ],
      "text/latex": [
       "\\begin{description*}\n",
       "\\item[V\\textbackslash{}\\_max] 13.5041180721635\n",
       "\\item[K\\textbackslash{}\\_M] 9.40846157841925\n",
       "\\end{description*}\n"
      ],
      "text/markdown": [
       "V_max\n",
       ":   13.5041180721635K_M\n",
       ":   9.40846157841925\n",
       "\n"
      ],
      "text/plain": [
       "    V_max       K_M \n",
       "13.504118  9.408462 "
      ]
     },
     "metadata": {},
     "output_type": "display_data"
    },
    {
     "data": {
      "text/html": [
       "<style>\n",
       ".dl-inline {width: auto; margin:0; padding: 0}\n",
       ".dl-inline>dt, .dl-inline>dd {float: none; width: auto; display: inline-block}\n",
       ".dl-inline>dt::after {content: \":\\0020\"; padding-right: .5ex}\n",
       ".dl-inline>dt:not(:first-of-type) {padding-left: .5ex}\n",
       "</style><dl class=dl-inline><dt>V_max</dt><dd>13.5041023449919</dd><dt>K_M</dt><dd>9.40841948575323</dd></dl>\n"
      ],
      "text/latex": [
       "\\begin{description*}\n",
       "\\item[V\\textbackslash{}\\_max] 13.5041023449919\n",
       "\\item[K\\textbackslash{}\\_M] 9.40841948575323\n",
       "\\end{description*}\n"
      ],
      "text/markdown": [
       "V_max\n",
       ":   13.5041023449919K_M\n",
       ":   9.40841948575323\n",
       "\n"
      ],
      "text/plain": [
       "    V_max       K_M \n",
       "13.504102  9.408419 "
      ]
     },
     "metadata": {},
     "output_type": "display_data"
    }
   ],
   "source": [
    "coef(MM_model)\n",
    "coef(MM_model4)"
   ]
  },
  {
   "cell_type": "markdown",
   "metadata": {},
   "source": [
    "The results of the first model fit and this last one are still not exactly the same! This drives home the point that NLLS is not an \"exact\" procedure. However, the differences between these two solutions are minuscule, so the main thing to take away is that if the starting values are reasonable, NLLS is *exact enough*.       "
   ]
  },
  {
   "cell_type": "markdown",
   "metadata": {},
   "source": [
    "Note that and even if you started the NLLS fitting with the exact parameter values with which you generated the data before introducing errors (so use `start = list(V_max = 12.5, K_M = 7.1)` above instead), you would still get the same result for the coefficients (try it). This is because the NLLS fitting will converge back to the parameter estimates based on the actual data, errors and all."
   ]
  },
  {
   "cell_type": "markdown",
   "metadata": {},
   "source": [
    "## A more robust NLLS algorithm\n",
    "\n",
    "The standard NLLS function in R, `nls`, which we have been using so far, does the NLLS fitting by implementing an algorithm called the Gauss-Newton algorithm. While the Gauss-Newton algorithm works well for most simple non-linear models, it has a tendency to \"get lost\" or \"stuck\" while searching for optimal parameter estimates (that minimize the residual sum of squares, or RSS). Therefore, `nls` will often fail to fit your model to the data if you start off at starting values for the parameters that are too far from what the optimal values would be, as you saw above (e.g., when you got the `singular gradient matrix` error).    \n",
    "\n",
    "Some nonlinear models are especially difficult for nls to fit to data because such model have a mathematical form that makes it hard to find parameter combinations that minimize the residual sum of squared (RSS). If this does not makes sense, don't worry about it.\n",
    "\n",
    "One solution to this is to use a different algorithm than Gauss-Newton. `nls()` has one other algorithm that can be more robust in some situations, called the \"port\" algorithm. However, there is a better solution still: the Levenberg-Marqualdt algorithm, which is less likely to get stuck (is more robust than) than Gauss-Newton (or port). If you want to learn more about the technicalities of this, [here](https://en.wikipedia.org/wiki/Gauss%E2%80%93Newton_algorithm) are [here](https://en.wikipedia.org/wiki/Levenberg%E2%80%93Marquardt_algorithm) are good places to start (also see the Readings list at the end of this chapter).\n",
    "\n",
    "\n",
    "To be able to use nlsLM, we will need to switch to a different NLLS function called `nlsLM`. In order to be able to use `nlsLM`, you will need the `nls.lm` R package, which you can install using the method appropriate for your operating system  (e.g., linux users will launch R in `sudo` mode first) and then use:\n",
    "\n",
    "```r\n",
    "> install.packages(\"minpack.lm\") \n",
    "```\n",
    "\n",
    "Now load the `minpack.lm` package:"
   ]
  },
  {
   "cell_type": "code",
   "execution_count": 646,
   "metadata": {
    "run_control": {
     "marked": true
    },
    "scrolled": true
   },
   "outputs": [],
   "source": [
    "require(\"minpack.lm\")"
   ]
  },
  {
   "cell_type": "markdown",
   "metadata": {},
   "source": [
    "Now let's try it (using the same starting values as `MM_model2` above):"
   ]
  },
  {
   "cell_type": "code",
   "execution_count": 647,
   "metadata": {},
   "outputs": [],
   "source": [
    "MM_model5 <- nlsLM(V_data ~ V_max * S_data / (K_M + S_data), start = list(V_max = 2, K_M = 2))"
   ]
  },
  {
   "cell_type": "markdown",
   "metadata": {},
   "source": [
    "Now compare the `nls` and `nlsLM` fitted coefficients:"
   ]
  },
  {
   "cell_type": "code",
   "execution_count": 648,
   "metadata": {
    "scrolled": false
   },
   "outputs": [
    {
     "data": {
      "text/html": [
       "<style>\n",
       ".dl-inline {width: auto; margin:0; padding: 0}\n",
       ".dl-inline>dt, .dl-inline>dd {float: none; width: auto; display: inline-block}\n",
       ".dl-inline>dt::after {content: \":\\0020\"; padding-right: .5ex}\n",
       ".dl-inline>dt:not(:first-of-type) {padding-left: .5ex}\n",
       "</style><dl class=dl-inline><dt>V_max</dt><dd>13.5041046181521</dd><dt>K_M</dt><dd>9.40842557733051</dd></dl>\n"
      ],
      "text/latex": [
       "\\begin{description*}\n",
       "\\item[V\\textbackslash{}\\_max] 13.5041046181521\n",
       "\\item[K\\textbackslash{}\\_M] 9.40842557733051\n",
       "\\end{description*}\n"
      ],
      "text/markdown": [
       "V_max\n",
       ":   13.5041046181521K_M\n",
       ":   9.40842557733051\n",
       "\n"
      ],
      "text/plain": [
       "    V_max       K_M \n",
       "13.504105  9.408426 "
      ]
     },
     "metadata": {},
     "output_type": "display_data"
    },
    {
     "data": {
      "text/html": [
       "<style>\n",
       ".dl-inline {width: auto; margin:0; padding: 0}\n",
       ".dl-inline>dt, .dl-inline>dd {float: none; width: auto; display: inline-block}\n",
       ".dl-inline>dt::after {content: \":\\0020\"; padding-right: .5ex}\n",
       ".dl-inline>dt:not(:first-of-type) {padding-left: .5ex}\n",
       "</style><dl class=dl-inline><dt>V_max</dt><dd>13.5041160772665</dd><dt>K_M</dt><dd>9.40845624487389</dd></dl>\n"
      ],
      "text/latex": [
       "\\begin{description*}\n",
       "\\item[V\\textbackslash{}\\_max] 13.5041160772665\n",
       "\\item[K\\textbackslash{}\\_M] 9.40845624487389\n",
       "\\end{description*}\n"
      ],
      "text/markdown": [
       "V_max\n",
       ":   13.5041160772665K_M\n",
       ":   9.40845624487389\n",
       "\n"
      ],
      "text/plain": [
       "    V_max       K_M \n",
       "13.504116  9.408456 "
      ]
     },
     "metadata": {},
     "output_type": "display_data"
    }
   ],
   "source": [
    "coef(MM_model2)\n",
    "coef(MM_model5)"
   ]
  },
  {
   "cell_type": "markdown",
   "metadata": {},
   "source": [
    "Close enough. \n",
    "\n",
    "Now, let's try fitting the model using all those starting parameter combinations that failed previously:  "
   ]
  },
  {
   "cell_type": "code",
   "execution_count": 649,
   "metadata": {},
   "outputs": [],
   "source": [
    "MM_model6 <- nlsLM(V_data ~ V_max * S_data / (K_M + S_data), start = list(V_max = 1, K_M = 10))"
   ]
  },
  {
   "cell_type": "code",
   "execution_count": 650,
   "metadata": {
    "scrolled": false
   },
   "outputs": [],
   "source": [
    "MM_model7 <- nlsLM(V_data ~ V_max * S_data / (K_M + S_data), start = list(V_max = 0, K_M = 0.1))"
   ]
  },
  {
   "cell_type": "code",
   "execution_count": 651,
   "metadata": {},
   "outputs": [],
   "source": [
    "MM_model8 <- nlsLM(V_data ~ V_max * S_data / (K_M + S_data), start = list(V_max = 0.1, K_M = 100))"
   ]
  },
  {
   "cell_type": "code",
   "execution_count": 652,
   "metadata": {
    "scrolled": true
   },
   "outputs": [],
   "source": [
    "MM_model9 <- nlsLM(V_data ~ V_max * S_data / (K_M + S_data), start = list(V_max = -0.1, K_M = 100))"
   ]
  },
  {
   "cell_type": "code",
   "execution_count": 653,
   "metadata": {
    "scrolled": true
   },
   "outputs": [
    {
     "data": {
      "text/html": [
       "<style>\n",
       ".dl-inline {width: auto; margin:0; padding: 0}\n",
       ".dl-inline>dt, .dl-inline>dd {float: none; width: auto; display: inline-block}\n",
       ".dl-inline>dt::after {content: \":\\0020\"; padding-right: .5ex}\n",
       ".dl-inline>dt:not(:first-of-type) {padding-left: .5ex}\n",
       "</style><dl class=dl-inline><dt>V_max</dt><dd>13.5041046181521</dd><dt>K_M</dt><dd>9.40842557733051</dd></dl>\n"
      ],
      "text/latex": [
       "\\begin{description*}\n",
       "\\item[V\\textbackslash{}\\_max] 13.5041046181521\n",
       "\\item[K\\textbackslash{}\\_M] 9.40842557733051\n",
       "\\end{description*}\n"
      ],
      "text/markdown": [
       "V_max\n",
       ":   13.5041046181521K_M\n",
       ":   9.40842557733051\n",
       "\n"
      ],
      "text/plain": [
       "    V_max       K_M \n",
       "13.504105  9.408426 "
      ]
     },
     "metadata": {},
     "output_type": "display_data"
    },
    {
     "data": {
      "text/html": [
       "<style>\n",
       ".dl-inline {width: auto; margin:0; padding: 0}\n",
       ".dl-inline>dt, .dl-inline>dd {float: none; width: auto; display: inline-block}\n",
       ".dl-inline>dt::after {content: \":\\0020\"; padding-right: .5ex}\n",
       ".dl-inline>dt:not(:first-of-type) {padding-left: .5ex}\n",
       "</style><dl class=dl-inline><dt>V_max</dt><dd>13.5041160772665</dd><dt>K_M</dt><dd>9.40845624487389</dd></dl>\n"
      ],
      "text/latex": [
       "\\begin{description*}\n",
       "\\item[V\\textbackslash{}\\_max] 13.5041160772665\n",
       "\\item[K\\textbackslash{}\\_M] 9.40845624487389\n",
       "\\end{description*}\n"
      ],
      "text/markdown": [
       "V_max\n",
       ":   13.5041160772665K_M\n",
       ":   9.40845624487389\n",
       "\n"
      ],
      "text/plain": [
       "    V_max       K_M \n",
       "13.504116  9.408456 "
      ]
     },
     "metadata": {},
     "output_type": "display_data"
    },
    {
     "data": {
      "text/html": [
       "<style>\n",
       ".dl-inline {width: auto; margin:0; padding: 0}\n",
       ".dl-inline>dt, .dl-inline>dd {float: none; width: auto; display: inline-block}\n",
       ".dl-inline>dt::after {content: \":\\0020\"; padding-right: .5ex}\n",
       ".dl-inline>dt:not(:first-of-type) {padding-left: .5ex}\n",
       "</style><dl class=dl-inline><dt>V_max</dt><dd>13.5041188982262</dd><dt>K_M</dt><dd>9.40846378596541</dd></dl>\n"
      ],
      "text/latex": [
       "\\begin{description*}\n",
       "\\item[V\\textbackslash{}\\_max] 13.5041188982262\n",
       "\\item[K\\textbackslash{}\\_M] 9.40846378596541\n",
       "\\end{description*}\n"
      ],
      "text/markdown": [
       "V_max\n",
       ":   13.5041188982262K_M\n",
       ":   9.40846378596541\n",
       "\n"
      ],
      "text/plain": [
       "    V_max       K_M \n",
       "13.504119  9.408464 "
      ]
     },
     "metadata": {},
     "output_type": "display_data"
    },
    {
     "data": {
      "text/html": [
       "<style>\n",
       ".dl-inline {width: auto; margin:0; padding: 0}\n",
       ".dl-inline>dt, .dl-inline>dd {float: none; width: auto; display: inline-block}\n",
       ".dl-inline>dt::after {content: \":\\0020\"; padding-right: .5ex}\n",
       ".dl-inline>dt:not(:first-of-type) {padding-left: .5ex}\n",
       "</style><dl class=dl-inline><dt>V_max</dt><dd>6.23550733765091</dd><dt>K_M</dt><dd>-1.39250725071091</dd></dl>\n"
      ],
      "text/latex": [
       "\\begin{description*}\n",
       "\\item[V\\textbackslash{}\\_max] 6.23550733765091\n",
       "\\item[K\\textbackslash{}\\_M] -1.39250725071091\n",
       "\\end{description*}\n"
      ],
      "text/markdown": [
       "V_max\n",
       ":   6.23550733765091K_M\n",
       ":   -1.39250725071091\n",
       "\n"
      ],
      "text/plain": [
       "    V_max       K_M \n",
       " 6.235507 -1.392507 "
      ]
     },
     "metadata": {},
     "output_type": "display_data"
    },
    {
     "data": {
      "text/html": [
       "<style>\n",
       ".dl-inline {width: auto; margin:0; padding: 0}\n",
       ".dl-inline>dt, .dl-inline>dd {float: none; width: auto; display: inline-block}\n",
       ".dl-inline>dt::after {content: \":\\0020\"; padding-right: .5ex}\n",
       ".dl-inline>dt:not(:first-of-type) {padding-left: .5ex}\n",
       "</style><dl class=dl-inline><dt>V_max</dt><dd>13.5041256272009</dd><dt>K_M</dt><dd>9.40848179662403</dd></dl>\n"
      ],
      "text/latex": [
       "\\begin{description*}\n",
       "\\item[V\\textbackslash{}\\_max] 13.5041256272009\n",
       "\\item[K\\textbackslash{}\\_M] 9.40848179662403\n",
       "\\end{description*}\n"
      ],
      "text/markdown": [
       "V_max\n",
       ":   13.5041256272009K_M\n",
       ":   9.40848179662403\n",
       "\n"
      ],
      "text/plain": [
       "    V_max       K_M \n",
       "13.504126  9.408482 "
      ]
     },
     "metadata": {},
     "output_type": "display_data"
    },
    {
     "data": {
      "text/html": [
       "<style>\n",
       ".dl-inline {width: auto; margin:0; padding: 0}\n",
       ".dl-inline>dt, .dl-inline>dd {float: none; width: auto; display: inline-block}\n",
       ".dl-inline>dt::after {content: \":\\0020\"; padding-right: .5ex}\n",
       ".dl-inline>dt:not(:first-of-type) {padding-left: .5ex}\n",
       "</style><dl class=dl-inline><dt>V_max</dt><dd>13.5041149588841</dd><dt>K_M</dt><dd>9.40845325190657</dd></dl>\n"
      ],
      "text/latex": [
       "\\begin{description*}\n",
       "\\item[V\\textbackslash{}\\_max] 13.5041149588841\n",
       "\\item[K\\textbackslash{}\\_M] 9.40845325190657\n",
       "\\end{description*}\n"
      ],
      "text/markdown": [
       "V_max\n",
       ":   13.5041149588841K_M\n",
       ":   9.40845325190657\n",
       "\n"
      ],
      "text/plain": [
       "    V_max       K_M \n",
       "13.504115  9.408453 "
      ]
     },
     "metadata": {},
     "output_type": "display_data"
    }
   ],
   "source": [
    "coef(MM_model2)\n",
    "coef(MM_model5)\n",
    "coef(MM_model6)\n",
    "coef(MM_model7)\n",
    "coef(MM_model8)\n",
    "coef(MM_model9)"
   ]
  },
  {
   "cell_type": "markdown",
   "metadata": {},
   "source": [
    "Nice, these all worked with `nlsLM` even though they had failed with `nls`! But one of them (model 7) still gives you poor values for the coefficients.\n",
    "\n",
    "But `nlsLM` also has its limits. Let's try more absurd starting values:"
   ]
  },
  {
   "cell_type": "code",
   "execution_count": 654,
   "metadata": {
    "scrolled": true
   },
   "outputs": [
    {
     "ename": "ERROR",
     "evalue": "Error in numericDeriv(form[[3L]], names(ind), env): Missing value or an infinity produced when evaluating the model\n",
     "output_type": "error",
     "traceback": [
      "Error in numericDeriv(form[[3L]], names(ind), env): Missing value or an infinity produced when evaluating the model\nTraceback:\n",
      "1. nlsLM(V_data ~ V_max * S_data/(K_M + S_data), start = list(V_max = -10, \n .     K_M = -10))",
      "2. nlsModel(formula, mf, start, wts)",
      "3. getRHS()",
      "4. numericDeriv(form[[3L]], names(ind), env)"
     ]
    }
   ],
   "source": [
    "nlsLM(V_data ~ V_max * S_data / (K_M + S_data), start = list(V_max = -10, K_M = -10))"
   ]
  },
  {
   "cell_type": "markdown",
   "metadata": {},
   "source": [
    "Thus, using starting values that are in a sensible range is always a good idea. Here, we know that neither $V_{\\max}$ nor $K_M$ can be negative, so we can use that bit of information to assign reasonable starting values.\n",
    "\n",
    "```{note}\n",
    "*How do you find \"sensible\" starting values for NLLS fitting?* This very much depends on your understanding of the mathematical model that is being fitted to the data, and the mechanistic interpretation of its parameters. \n",
    "```"
   ]
  },
  {
   "cell_type": "markdown",
   "metadata": {},
   "source": [
    "(20-ModelFitting-NLLS:Bounding)=\n",
    "## Bounding parameter values"
   ]
  },
  {
   "cell_type": "markdown",
   "metadata": {},
   "source": [
    "You can also bound the starting values, i.e., prevent them from exceeding some minimum and maximum value *during* the NLLS fitting process:"
   ]
  },
  {
   "cell_type": "code",
   "execution_count": 655,
   "metadata": {},
   "outputs": [
    {
     "data": {
      "text/plain": [
       "Nonlinear regression model\n",
       "  model: V_data ~ V_max * S_data/(K_M + S_data)\n",
       "   data: parent.frame()\n",
       " V_max    K_M \n",
       "13.504  9.408 \n",
       " residual sum-of-squares: 48.06\n",
       "\n",
       "Number of iterations to convergence: 9 \n",
       "Achieved convergence tolerance: 1.49e-08"
      ]
     },
     "metadata": {},
     "output_type": "display_data"
    }
   ],
   "source": [
    "nlsLM(V_data ~ V_max * S_data / (K_M + S_data), start = list(V_max = 0.5, K_M = 0.5))"
   ]
  },
  {
   "cell_type": "code",
   "execution_count": 656,
   "metadata": {},
   "outputs": [
    {
     "data": {
      "text/plain": [
       "Nonlinear regression model\n",
       "  model: V_data ~ V_max * S_data/(K_M + S_data)\n",
       "   data: parent.frame()\n",
       " V_max    K_M \n",
       "13.504  9.408 \n",
       " residual sum-of-squares: 48.06\n",
       "\n",
       "Number of iterations to convergence: 8 \n",
       "Achieved convergence tolerance: 1.49e-08"
      ]
     },
     "metadata": {},
     "output_type": "display_data"
    }
   ],
   "source": [
    "nlsLM(V_data ~ V_max * S_data / (K_M + S_data), start = list(V_max = 0.5, K_M = 0.5), lower=c(0.4,0.4), upper=c(100,100))"
   ]
  },
  {
   "cell_type": "markdown",
   "metadata": {},
   "source": [
    "So the solution was found in one lesser iteration (not a spectacular improvement, but an improvement nevertheless).\n",
    "\n",
    "However, if you bound the parameters too much (to excessively narrow ranges), the algorithm cannot search sufficient parameter space (combinations of parameters), and will fail to converge on a good solution. For example:   "
   ]
  },
  {
   "cell_type": "code",
   "execution_count": 657,
   "metadata": {
    "scrolled": false
   },
   "outputs": [
    {
     "data": {
      "text/plain": [
       "Nonlinear regression model\n",
       "  model: V_data ~ V_max * S_data/(K_M + S_data)\n",
       "   data: parent.frame()\n",
       "V_max   K_M \n",
       "17.21 20.00 \n",
       " residual sum-of-squares: 78.58\n",
       "\n",
       "Number of iterations to convergence: 3 \n",
       "Achieved convergence tolerance: 1.49e-08"
      ]
     },
     "metadata": {},
     "output_type": "display_data"
    }
   ],
   "source": [
    "nlsLM(V_data ~ V_max * S_data / (K_M + S_data), start =  list(V_max = 0.5, K_M = 0.5), lower=c(0.4,0.4), upper=c(20,20))"
   ]
  },
  {
   "cell_type": "markdown",
   "metadata": {},
   "source": [
    "Here the algorithm converged on a poor solution, and in fact took fewer iterations (3) than before to do so. This is because it could not explore sufficient parameter combinations of `V_max` and `K_M` as we have narrowed the range that both these parameters could be allowed to take during the optimization too much."
   ]
  },
  {
   "cell_type": "markdown",
   "metadata": {},
   "source": [
    "## Diagnostics of an NLLS fit\n",
    "\n",
    "NLLS regression carries the same three key assumptions as Linear models:\n",
    "\n",
    "* No (in practice, minimal) measurement error in explanatory/independent/predictor variable ($x$-axis variable)\n",
    "\n",
    "* Data have constant normal variance --- errors in the $y$-axis are homogeneously distributed over the $x$-axis range\n",
    "\n",
    "* The measurement/observation errors are Normally distributed (Gaussian)\n",
    "\n",
    "At the very least, it is a good idea to plot the residuals of a fitted NLLS model. Let's do that for our Michaelis-Menten Model fit:"
   ]
  },
  {
   "cell_type": "code",
   "execution_count": 658,
   "metadata": {
    "scrolled": true
   },
   "outputs": [
    {
     "data": {
      "image/png": "[encoded data removed]",
      "text/plain": [
       "Plot with title “Histogram of residuals(MM_model6)”"
      ]
     },
     "metadata": {
      "image/png": {
       "height": 240,
       "width": 240
      }
     },
     "output_type": "display_data"
    }
   ],
   "source": [
    "hist(residuals(MM_model6))"
   ]
  },
  {
   "cell_type": "markdown",
   "metadata": {},
   "source": [
    "The residuals look OK. But this should not come as a surprise because we generated these \"data\" ourselves using normally-distributed errors!\n",
    "\n",
    "You may also want to look at further diagnostics, as we did [previously](14-regress:Diagnostics) in the case of Linear models. The most convenient way to do this is to use the `nlstools` package. We will not go into it here, but you can have a look at its [documentation](https://rdrr.io/rforge/nlstools/). Note that you will need to install this package as it is not one of the core (base) R packages. "
   ]
  },
  {
   "cell_type": "markdown",
   "metadata": {},
   "source": [
    "```{note}\n",
    "For the remaining examples, we will switch to using `nlsLM` instead of `nls`.\n",
    "```"
   ]
  },
  {
   "cell_type": "markdown",
   "metadata": {},
   "source": [
    "## Allometric scaling of traits\n",
    "\n",
    "Now let's move on to a very common class of traits in biology: physical traits like body weight, wing span, body length, limb length, eye size, ear width, etc. \n",
    "\n",
    "We will look at a very common phenomenon called [allometric scaling](https://en.wikipedia.org/wiki/Allometry). Allometric relationships between linear measurements such as body length, limb length, wing span, and thorax width are a good way to obtain estimates of body weights of individual organisms. We will look at allometric scaling of body weight vs. total body length in dragonflies and damselfiles. \n",
    "\n",
    "Allometric relationships take the form:"
   ]
  },
  {
   "cell_type": "markdown",
   "metadata": {},
   "source": [
    "$$\n",
    "y = a x^b\n",
    "$$(eq:allom)"
   ]
  },
  {
   "cell_type": "markdown",
   "metadata": {},
   "source": [
    "where $x$ and $y$ are morphological measures (body length and body weight respectively, in our current example), the constant is the value of $y$ at body length $x = 1$ unit, and $b$ is the scaling \"exponent\". This is also called a power-law, because $y$ relates to $x$ through a simple power. "
   ]
  },
  {
   "cell_type": "markdown",
   "metadata": {},
   "source": [
    "Let's fit a power low to a typical allometric relationship: The change in body weight vs change in body length. In general, this relationship is a allometry; that is, body weight does not increase proportionally with some measure of body length.    \n",
    "\n",
    "First, let's look at the data. You can get the data [here](https://raw.githubusercontent.com/mhasoba/TheMulQuaBio/master/content/data/GenomeSize.csv) (first click on link and use \"Save as\" or `Ctrl+S` to download it as a csv). \n",
    "\n",
    "$\\star$ Save the `GenomeSize.csv` data file to your `data` directory, and import it into your R workspace:"
   ]
  },
  {
   "cell_type": "code",
   "execution_count": 659,
   "metadata": {
    "scrolled": true
   },
   "outputs": [
    {
     "data": {
      "text/html": [
       "<table>\n",
       "<caption>A data.frame: 6 × 16</caption>\n",
       "<thead>\n",
       "\t<tr><th></th><th scope=col>Suborder</th><th scope=col>Family</th><th scope=col>Species</th><th scope=col>GenomeSize</th><th scope=col>GenomeSE</th><th scope=col>GenomeN</th><th scope=col>BodyWeight</th><th scope=col>TotalLength</th><th scope=col>HeadLength</th><th scope=col>ThoraxLength</th><th scope=col>AdbdomenLength</th><th scope=col>ForewingLength</th><th scope=col>HindwingLength</th><th scope=col>ForewingArea</th><th scope=col>HindwingArea</th><th scope=col>MorphologyN</th></tr>\n",
       "\t<tr><th></th><th scope=col>&lt;chr&gt;</th><th scope=col>&lt;chr&gt;</th><th scope=col>&lt;chr&gt;</th><th scope=col>&lt;dbl&gt;</th><th scope=col>&lt;dbl&gt;</th><th scope=col>&lt;int&gt;</th><th scope=col>&lt;dbl&gt;</th><th scope=col>&lt;dbl&gt;</th><th scope=col>&lt;dbl&gt;</th><th scope=col>&lt;dbl&gt;</th><th scope=col>&lt;dbl&gt;</th><th scope=col>&lt;dbl&gt;</th><th scope=col>&lt;dbl&gt;</th><th scope=col>&lt;dbl&gt;</th><th scope=col>&lt;dbl&gt;</th><th scope=col>&lt;int&gt;</th></tr>\n",
       "</thead>\n",
       "<tbody>\n",
       "\t<tr><th scope=row>1</th><td>Anisoptera</td><td>Aeshnidae</td><td>Aeshna canadensis   </td><td>2.20</td><td>  NA</td><td>1</td><td>0.159</td><td>67.58</td><td>6.83</td><td>11.81</td><td>48.94</td><td>45.47</td><td>45.40</td><td>369.57</td><td>483.61</td><td>2</td></tr>\n",
       "\t<tr><th scope=row>2</th><td>Anisoptera</td><td>Aeshnidae</td><td>Aeshna constricta   </td><td>1.76</td><td>0.06</td><td>4</td><td>0.228</td><td>71.97</td><td>6.84</td><td>10.72</td><td>54.41</td><td>46.00</td><td>45.48</td><td>411.15</td><td>517.38</td><td>3</td></tr>\n",
       "\t<tr><th scope=row>3</th><td>Anisoptera</td><td>Aeshnidae</td><td>Aeshna eremita      </td><td>1.85</td><td>  NA</td><td>1</td><td>0.312</td><td>78.80</td><td>6.27</td><td>16.19</td><td>56.33</td><td>51.24</td><td>49.47</td><td>460.72</td><td>574.33</td><td>1</td></tr>\n",
       "\t<tr><th scope=row>4</th><td>Anisoptera</td><td>Aeshnidae</td><td>Aeshna tuberculifera</td><td>1.78</td><td>0.10</td><td>2</td><td>0.218</td><td>72.44</td><td>6.62</td><td>12.53</td><td>53.29</td><td>49.84</td><td>48.82</td><td>468.74</td><td>591.42</td><td>2</td></tr>\n",
       "\t<tr><th scope=row>5</th><td>Anisoptera</td><td>Aeshnidae</td><td>Aeshna umbrosa      </td><td>2.00</td><td>  NA</td><td>1</td><td>0.207</td><td>73.05</td><td>4.92</td><td>11.11</td><td>57.03</td><td>46.51</td><td>45.97</td><td>382.48</td><td>481.44</td><td>1</td></tr>\n",
       "\t<tr><th scope=row>6</th><td>Anisoptera</td><td>Aeshnidae</td><td>Aeshna verticalis   </td><td>1.59</td><td>  NA</td><td>1</td><td>0.220</td><td>66.25</td><td>6.48</td><td>11.64</td><td>48.13</td><td>45.91</td><td>44.91</td><td>400.40</td><td>486.97</td><td>1</td></tr>\n",
       "</tbody>\n",
       "</table>\n"
      ],
      "text/latex": [
       "A data.frame: 6 × 16\n",
       "\\begin{tabular}{r|llllllllllllllll}\n",
       "  & Suborder & Family & Species & GenomeSize & GenomeSE & GenomeN & BodyWeight & TotalLength & HeadLength & ThoraxLength & AdbdomenLength & ForewingLength & HindwingLength & ForewingArea & HindwingArea & MorphologyN\\\\\n",
       "  & <chr> & <chr> & <chr> & <dbl> & <dbl> & <int> & <dbl> & <dbl> & <dbl> & <dbl> & <dbl> & <dbl> & <dbl> & <dbl> & <dbl> & <int>\\\\\n",
       "\\hline\n",
       "\t1 & Anisoptera & Aeshnidae & Aeshna canadensis    & 2.20 &   NA & 1 & 0.159 & 67.58 & 6.83 & 11.81 & 48.94 & 45.47 & 45.40 & 369.57 & 483.61 & 2\\\\\n",
       "\t2 & Anisoptera & Aeshnidae & Aeshna constricta    & 1.76 & 0.06 & 4 & 0.228 & 71.97 & 6.84 & 10.72 & 54.41 & 46.00 & 45.48 & 411.15 & 517.38 & 3\\\\\n",
       "\t3 & Anisoptera & Aeshnidae & Aeshna eremita       & 1.85 &   NA & 1 & 0.312 & 78.80 & 6.27 & 16.19 & 56.33 & 51.24 & 49.47 & 460.72 & 574.33 & 1\\\\\n",
       "\t4 & Anisoptera & Aeshnidae & Aeshna tuberculifera & 1.78 & 0.10 & 2 & 0.218 & 72.44 & 6.62 & 12.53 & 53.29 & 49.84 & 48.82 & 468.74 & 591.42 & 2\\\\\n",
       "\t5 & Anisoptera & Aeshnidae & Aeshna umbrosa       & 2.00 &   NA & 1 & 0.207 & 73.05 & 4.92 & 11.11 & 57.03 & 46.51 & 45.97 & 382.48 & 481.44 & 1\\\\\n",
       "\t6 & Anisoptera & Aeshnidae & Aeshna verticalis    & 1.59 &   NA & 1 & 0.220 & 66.25 & 6.48 & 11.64 & 48.13 & 45.91 & 44.91 & 400.40 & 486.97 & 1\\\\\n",
       "\\end{tabular}\n"
      ],
      "text/markdown": [
       "\n",
       "A data.frame: 6 × 16\n",
       "\n",
       "| <!--/--> | Suborder &lt;chr&gt; | Family &lt;chr&gt; | Species &lt;chr&gt; | GenomeSize &lt;dbl&gt; | GenomeSE &lt;dbl&gt; | GenomeN &lt;int&gt; | BodyWeight &lt;dbl&gt; | TotalLength &lt;dbl&gt; | HeadLength &lt;dbl&gt; | ThoraxLength &lt;dbl&gt; | AdbdomenLength &lt;dbl&gt; | ForewingLength &lt;dbl&gt; | HindwingLength &lt;dbl&gt; | ForewingArea &lt;dbl&gt; | HindwingArea &lt;dbl&gt; | MorphologyN &lt;int&gt; |\n",
       "|---|---|---|---|---|---|---|---|---|---|---|---|---|---|---|---|---|\n",
       "| 1 | Anisoptera | Aeshnidae | Aeshna canadensis    | 2.20 |   NA | 1 | 0.159 | 67.58 | 6.83 | 11.81 | 48.94 | 45.47 | 45.40 | 369.57 | 483.61 | 2 |\n",
       "| 2 | Anisoptera | Aeshnidae | Aeshna constricta    | 1.76 | 0.06 | 4 | 0.228 | 71.97 | 6.84 | 10.72 | 54.41 | 46.00 | 45.48 | 411.15 | 517.38 | 3 |\n",
       "| 3 | Anisoptera | Aeshnidae | Aeshna eremita       | 1.85 |   NA | 1 | 0.312 | 78.80 | 6.27 | 16.19 | 56.33 | 51.24 | 49.47 | 460.72 | 574.33 | 1 |\n",
       "| 4 | Anisoptera | Aeshnidae | Aeshna tuberculifera | 1.78 | 0.10 | 2 | 0.218 | 72.44 | 6.62 | 12.53 | 53.29 | 49.84 | 48.82 | 468.74 | 591.42 | 2 |\n",
       "| 5 | Anisoptera | Aeshnidae | Aeshna umbrosa       | 2.00 |   NA | 1 | 0.207 | 73.05 | 4.92 | 11.11 | 57.03 | 46.51 | 45.97 | 382.48 | 481.44 | 1 |\n",
       "| 6 | Anisoptera | Aeshnidae | Aeshna verticalis    | 1.59 |   NA | 1 | 0.220 | 66.25 | 6.48 | 11.64 | 48.13 | 45.91 | 44.91 | 400.40 | 486.97 | 1 |\n",
       "\n"
      ],
      "text/plain": [
       "  Suborder   Family    Species              GenomeSize GenomeSE GenomeN\n",
       "1 Anisoptera Aeshnidae Aeshna canadensis    2.20         NA     1      \n",
       "2 Anisoptera Aeshnidae Aeshna constricta    1.76       0.06     4      \n",
       "3 Anisoptera Aeshnidae Aeshna eremita       1.85         NA     1      \n",
       "4 Anisoptera Aeshnidae Aeshna tuberculifera 1.78       0.10     2      \n",
       "5 Anisoptera Aeshnidae Aeshna umbrosa       2.00         NA     1      \n",
       "6 Anisoptera Aeshnidae Aeshna verticalis    1.59         NA     1      \n",
       "  BodyWeight TotalLength HeadLength ThoraxLength AdbdomenLength ForewingLength\n",
       "1 0.159      67.58       6.83       11.81        48.94          45.47         \n",
       "2 0.228      71.97       6.84       10.72        54.41          46.00         \n",
       "3 0.312      78.80       6.27       16.19        56.33          51.24         \n",
       "4 0.218      72.44       6.62       12.53        53.29          49.84         \n",
       "5 0.207      73.05       4.92       11.11        57.03          46.51         \n",
       "6 0.220      66.25       6.48       11.64        48.13          45.91         \n",
       "  HindwingLength ForewingArea HindwingArea MorphologyN\n",
       "1 45.40          369.57       483.61       2          \n",
       "2 45.48          411.15       517.38       3          \n",
       "3 49.47          460.72       574.33       1          \n",
       "4 48.82          468.74       591.42       2          \n",
       "5 45.97          382.48       481.44       1          \n",
       "6 44.91          400.40       486.97       1          "
      ]
     },
     "metadata": {},
     "output_type": "display_data"
    }
   ],
   "source": [
    "MyData <- read.csv(\"../data/GenomeSize.csv\") # using relative path assuming that your working directory is \"code\"\n",
    "\n",
    "head(MyData)"
   ]
  },
  {
   "cell_type": "markdown",
   "metadata": {},
   "source": [
    "[Anisoptera](https://en.wikipedia.org/wiki/Dragonfly) are dragonflies, and [Zygoptera](https://en.wikipedia.org/wiki/Damselfly) are Damselflies. The variables of interest are `BodyWeight` and `TotalLength`. Let's use the dragonflies data subset. "
   ]
  },
  {
   "cell_type": "markdown",
   "metadata": {},
   "source": [
    "So subset the data accordingly and remove NAs:"
   ]
  },
  {
   "cell_type": "code",
   "execution_count": 660,
   "metadata": {},
   "outputs": [],
   "source": [
    "Data2Fit <- subset(MyData,Suborder == \"Anisoptera\")\n",
    "\n",
    "Data2Fit <- Data2Fit[!is.na(Data2Fit$TotalLength),] # remove NA's"
   ]
  },
  {
   "cell_type": "markdown",
   "metadata": {},
   "source": [
    "Plot the data:"
   ]
  },
  {
   "cell_type": "code",
   "execution_count": 661,
   "metadata": {
    "scrolled": true
   },
   "outputs": [
    {
     "data": {
      "image/png": "[encoded data removed]",
      "text/plain": [
       "plot without title"
      ]
     },
     "metadata": {
      "image/png": {
       "height": 240,
       "width": 240
      }
     },
     "output_type": "display_data"
    }
   ],
   "source": [
    "plot(Data2Fit$TotalLength, Data2Fit$BodyWeight, xlab = \"Body Length\", ylab = \"Body Weight\")"
   ]
  },
  {
   "cell_type": "markdown",
   "metadata": {},
   "source": [
    "Or, using `ggplot`:"
   ]
  },
  {
   "cell_type": "code",
   "execution_count": 662,
   "metadata": {
    "scrolled": true
   },
   "outputs": [
    {
     "data": {
      "image/png": "[encoded data removed]",
      "text/plain": [
       "plot without title"
      ]
     },
     "metadata": {
      "image/png": {
       "height": 240,
       "width": 240
      }
     },
     "output_type": "display_data"
    }
   ],
   "source": [
    "library(\"ggplot2\")\n",
    "\n",
    "ggplot(Data2Fit, aes(x = TotalLength, y = BodyWeight)) + \n",
    "geom_point(size = (3),color=\"red\") + theme_bw() + \n",
    "labs(y=\"Body mass (mg)\", x = \"Wing length (mm)\")"
   ]
  },
  {
   "cell_type": "markdown",
   "metadata": {},
   "source": [
    "You can see these body weights of dragonflies does not increase proportionally with body length &ndash; they curve upwards w.r.t. wing length (so the allometric constant $b$ in eqn {eq}`eq:allom` mustbe greater than 1), instead of increasing as a straight line (in which case $b = 1$ (isometry, instead of allometry). "
   ]
  },
  {
   "cell_type": "markdown",
   "metadata": {},
   "source": [
    "Now fit the model to the data using NLLS:"
   ]
  },
  {
   "cell_type": "code",
   "execution_count": 663,
   "metadata": {
    "scrolled": false
   },
   "outputs": [],
   "source": [
    "PowFit <- nlsLM(BodyWeight ~ a * TotalLength^b, data = Data2Fit, start = list(a = .1, b = .1))"
   ]
  },
  {
   "cell_type": "markdown",
   "metadata": {},
   "source": [
    "The first thing to do is to see how well the model fitted the data, for which plotting is the best first option. So let's visualize the fit. For this, first we need to generate a vector of body lengths (the x-axis variable) for plotting: "
   ]
  },
  {
   "cell_type": "code",
   "execution_count": 664,
   "metadata": {},
   "outputs": [],
   "source": [
    "Lengths <- seq(min(Data2Fit$TotalLength),max(Data2Fit$TotalLength),len=200)"
   ]
  },
  {
   "cell_type": "code",
   "execution_count": 665,
   "metadata": {},
   "outputs": [
    {
     "data": {
      "text/html": [
       "<strong>a:</strong> 3.94068495559397e-06"
      ],
      "text/latex": [
       "\\textbf{a:} 3.94068495559397e-06"
      ],
      "text/markdown": [
       "**a:** 3.94068495559397e-06"
      ],
      "text/plain": [
       "           a \n",
       "3.940685e-06 "
      ]
     },
     "metadata": {},
     "output_type": "display_data"
    },
    {
     "data": {
      "text/html": [
       "<strong>b:</strong> 2.58504796499038"
      ],
      "text/latex": [
       "\\textbf{b:} 2.58504796499038"
      ],
      "text/markdown": [
       "**b:** 2.58504796499038"
      ],
      "text/plain": [
       "       b \n",
       "2.585048 "
      ]
     },
     "metadata": {},
     "output_type": "display_data"
    }
   ],
   "source": [
    "coef(PowFit)[\"a\"]\n",
    "coef(PowFit)[\"b\"]"
   ]
  },
  {
   "cell_type": "code",
   "execution_count": 666,
   "metadata": {},
   "outputs": [
    {
     "ename": "ERROR",
     "evalue": "Error in powMod(Lengths, coef(PowFit)[\"a\"], coef(PowFit)[\"b\"]): could not find function \"powMod\"\n",
     "output_type": "error",
     "traceback": [
      "Error in powMod(Lengths, coef(PowFit)[\"a\"], coef(PowFit)[\"b\"]): could not find function \"powMod\"\nTraceback:\n"
     ]
    }
   ],
   "source": [
    "Predic2PlotPow <- powMod(Lengths,coef(PowFit)[\"a\"],coef(PowFit)[\"b\"])"
   ]
  },
  {
   "cell_type": "markdown",
   "metadata": {},
   "source": [
    "Next, calculate the predicted line. For this, we will need to extract the coefficient from the model fit object using the `coef()`command. "
   ]
  },
  {
   "cell_type": "markdown",
   "metadata": {},
   "source": [
    "Now plot the data and the fitted model line:"
   ]
  },
  {
   "cell_type": "code",
   "execution_count": 667,
   "metadata": {
    "scrolled": true
   },
   "outputs": [
    {
     "ename": "ERROR",
     "evalue": "Error in xy.coords(x, y): object 'Predic2PlotPow' not found\n",
     "output_type": "error",
     "traceback": [
      "Error in xy.coords(x, y): object 'Predic2PlotPow' not found\nTraceback:\n",
      "1. lines(Lengths, Predic2PlotPow, col = \"blue\", lwd = 2.5)",
      "2. lines.default(Lengths, Predic2PlotPow, col = \"blue\", lwd = 2.5)",
      "3. plot.xy(xy.coords(x, y), type = type, ...)",
      "4. xy.coords(x, y)"
     ]
    },
    {
     "data": {
      "image/png": "[encoded data removed]",
      "text/plain": [
       "plot without title"
      ]
     },
     "metadata": {
      "image/png": {
       "height": 240,
       "width": 240
      }
     },
     "output_type": "display_data"
    }
   ],
   "source": [
    "plot(Data2Fit$TotalLength, Data2Fit$BodyWeight)\n",
    "lines(Lengths, Predic2PlotPow, col = 'blue', lwd = 2.5)"
   ]
  },
  {
   "cell_type": "markdown",
   "metadata": {},
   "source": [
    "Now lets get some stats of this NLLS fit. Having obtained the fit object (`PowMod`), we can use `summary()` just like we would for a `lm()` fit object: "
   ]
  },
  {
   "cell_type": "code",
   "execution_count": 668,
   "metadata": {
    "scrolled": false
   },
   "outputs": [
    {
     "data": {
      "text/plain": [
       "\n",
       "Formula: BodyWeight ~ a * TotalLength^b\n",
       "\n",
       "Parameters:\n",
       "   Estimate Std. Error t value Pr(>|t|)    \n",
       "a 3.941e-06  2.234e-06   1.764    0.083 .  \n",
       "b 2.585e+00  1.348e-01  19.174   <2e-16 ***\n",
       "---\n",
       "Signif. codes:  0 ‘***’ 0.001 ‘**’ 0.01 ‘*’ 0.05 ‘.’ 0.1 ‘ ’ 1\n",
       "\n",
       "Residual standard error: 0.02807 on 58 degrees of freedom\n",
       "\n",
       "Number of iterations to convergence: 39 \n",
       "Achieved convergence tolerance: 1.49e-08\n"
      ]
     },
     "metadata": {},
     "output_type": "display_data"
    }
   ],
   "source": [
    "summary(PowFit)"
   ]
  },
  {
   "cell_type": "markdown",
   "metadata": {},
   "source": [
    "## NLLS fitting using model objects \n",
    "\n",
    "Another way to tell `nlsLM` which model to fit, is to first create a function object for the power law model:"
   ]
  },
  {
   "cell_type": "code",
   "execution_count": 669,
   "metadata": {},
   "outputs": [],
   "source": [
    "powMod <- function(x, a, b) {\n",
    " return(a * x^b)\n",
    "}"
   ]
  },
  {
   "cell_type": "markdown",
   "metadata": {},
   "source": [
    "Now fit the model to the data using NLLS by calling the model:"
   ]
  },
  {
   "cell_type": "code",
   "execution_count": 670,
   "metadata": {
    "scrolled": false
   },
   "outputs": [],
   "source": [
    "PowFit <- nlsLM(BodyWeight ~ powMod(TotalLength,a,b), data = Data2Fit, start = list(a = .1, b = .1))"
   ]
  },
  {
   "cell_type": "markdown",
   "metadata": {},
   "source": [
    "Which gives the same result as before (you can check it)."
   ]
  },
  {
   "cell_type": "markdown",
   "metadata": {},
   "source": [
    "```{tip}\n",
    "Remember, when you write this analysis into a stand-alone R script, you should put all commands for loading packages (`library()`, `require()`) at the start of the script. *  \n",
    "```"
   ]
  },
  {
   "cell_type": "markdown",
   "metadata": {},
   "source": [
    "##### Exercises <a id='Allom_Exercises'></a>\n",
    "\n",
    "(a) Make the same plot as above, fitted line and all, in `ggplot`, and add (display) the equation you estimated to your new (ggplot) plot. The equation is: $\\text{Weight} = 3.94 \\times 10^{-06} \\times \\text{Length}^{2.59}$\n",
    "\n",
    "(b) Try playing with the starting values, and see if you can \"break\" the model fitting -- that is, change the starting values till the NLLS fitting does not converge on a solution.\n",
    "\n",
    "(c) Repeat the model fitting (including a-b above) using the Zygoptera data subset.\n",
    "\n",
    " \n",
    "(d) There is an alternative (and in fact, more commonly-used) approach for fitting the allometric model to data: using Ordinary Least Squares on bi-logarithamically transformed data. That is, if you take a log of both sides of the [allometric equation](#eq:allom) we get,\n",
    "\n",
    "$$\n",
    "\\log(y) = \\log(a) + b \\log(x)\n",
    "$$\n",
    "\n",
    "This is a straight line equation of the form $c = d + b z $, where $c = \\log(c)$, $d = \\log(a)$, $z = \\log(x)$, and $b$ is now the slope parameter. So you can use Ordinary Least Squares and the linear models framework (with `lm()`) in R to estimate the parameters of the allometric equation. \n",
    "\n",
    "In this exercise, try comparing the NLLS vs OLS methods to see how much difference you get in the parameter estimates between them. For example, see the methods used in this paper by [Cohen et al 2012](https://www.ncbi.nlm.nih.gov/pmc/articles/PMC3465447/).\n",
    "\n",
    "(e) The allometry between Body weight and Length is not the end of the story. You have a number of other linear morphological measurements (`HeadLength`, `ThoraxLength`, `AdbdomenLength`, `ForewingLength`, `HindwingLength`, `ForewingArea`, and `HindwingArea`) that can also be investigated. In this exercise, try two lines of investigation (again, repeated separately for Dragonflies and Damselfiles): \n",
    "\n",
    " (i) How do each of these measures allometrically scale with Body length (obtain estimates of scaling constant and exponent)? (Hint: you may want to use the `pairs()` command in R to get an overview of all the pairs of potential scaling relationships. \n",
    "\n",
    " (ii) Do any of the linear morphological measurements other than body length better predict Body weight? That is, does body weight scale more tightly with a linear morphological measurement other than total body length? You would use model selection here, which we will learn next. But for now, you can just look at and compare the $R^2$ values of the models."
   ]
  },
  {
   "cell_type": "markdown",
   "metadata": {},
   "source": [
    "(Model-Fitting-R-Comparing-Models)=\n",
    "## Comparing models\n",
    "\n",
    " *How do we know that there isn't a better or alternative model that adequately explains the pattern in your dataset?* \n",
    "\n",
    "This is important consideration in all data analyses (and more generally, the scientific method!), so you must aim to compare your NLLS model with an one or more alternatives for a more extensive and reliable investigation of the problem. \n",
    "\n",
    "Let's use model comparison to investigate whether the relationship between body weight and length we found above is indeed allometric. For this, we need an alternative model that can be fitted to the same data. Let's try a quadratic curve, which is of the form:\n",
    "\n",
    "$$\n",
    "y = a + b x + c x^2\n",
    "$$\n",
    "\n",
    "This can also capture curvature in data, and is an alternative model to the [allometric equation](#eq:allom). Note that this mode is linear in its parameters (a linear model), which you can fit to the simply data using your familiar `lm()` function: "
   ]
  },
  {
   "cell_type": "code",
   "execution_count": 671,
   "metadata": {},
   "outputs": [],
   "source": [
    "QuaFit <- lm(BodyWeight ~ poly(TotalLength,2), data = Data2Fit)"
   ]
  },
  {
   "cell_type": "markdown",
   "metadata": {},
   "source": [
    "And like before, we obtain the predicted values (but this time using the `predict.lm` function):"
   ]
  },
  {
   "cell_type": "code",
   "execution_count": 672,
   "metadata": {},
   "outputs": [],
   "source": [
    "Predic2PlotQua <- predict.lm(QuaFit, data.frame(TotalLength = Lengths))"
   ]
  },
  {
   "cell_type": "markdown",
   "metadata": {},
   "source": [
    "Now let's plot the two fitted models together:"
   ]
  },
  {
   "cell_type": "code",
   "execution_count": 673,
   "metadata": {
    "scrolled": true
   },
   "outputs": [
    {
     "ename": "ERROR",
     "evalue": "Error in xy.coords(x, y): object 'Predic2PlotPow' not found\n",
     "output_type": "error",
     "traceback": [
      "Error in xy.coords(x, y): object 'Predic2PlotPow' not found\nTraceback:\n",
      "1. lines(Lengths, Predic2PlotPow, col = \"blue\", lwd = 2.5)",
      "2. lines.default(Lengths, Predic2PlotPow, col = \"blue\", lwd = 2.5)",
      "3. plot.xy(xy.coords(x, y), type = type, ...)",
      "4. xy.coords(x, y)"
     ]
    },
    {
     "data": {
      "image/png": "[encoded data removed]",
      "text/plain": [
       "plot without title"
      ]
     },
     "metadata": {
      "image/png": {
       "height": 240,
       "width": 240
      }
     },
     "output_type": "display_data"
    }
   ],
   "source": [
    "plot(Data2Fit$TotalLength, Data2Fit$BodyWeight)\n",
    "lines(Lengths, Predic2PlotPow, col = 'blue', lwd = 2.5)\n",
    "lines(Lengths, Predic2PlotQua, col = 'red', lwd = 2.5)"
   ]
  },
  {
   "cell_type": "markdown",
   "metadata": {},
   "source": [
    "Very similar fits, except that the quadratic model seems to deviate a bit from the data at the lower end of the data range. Let's do a proper, formal model comparison now to check which model better-fits the data.\n",
    "\n",
    "First calculate the R$^2$ values of the two fitted models:"
   ]
  },
  {
   "cell_type": "code",
   "execution_count": 674,
   "metadata": {
    "scrolled": true
   },
   "outputs": [
    {
     "data": {
      "text/html": [
       "0.90054752976309"
      ],
      "text/latex": [
       "0.90054752976309"
      ],
      "text/markdown": [
       "0.90054752976309"
      ],
      "text/plain": [
       "[1] 0.9005475"
      ]
     },
     "metadata": {},
     "output_type": "display_data"
    },
    {
     "data": {
      "text/html": [
       "0.900302864503218"
      ],
      "text/latex": [
       "0.900302864503218"
      ],
      "text/markdown": [
       "0.900302864503218"
      ],
      "text/plain": [
       "[1] 0.9003029"
      ]
     },
     "metadata": {},
     "output_type": "display_data"
    }
   ],
   "source": [
    "RSS_Pow <- sum(residuals(PowFit)^2) # Residual sum of squares\n",
    "TSS_Pow <- sum((Data2Fit$BodyWeight - mean(Data2Fit$BodyWeight))^2) # Total sum of squares\n",
    "RSq_Pow <- 1 - (RSS_Pow/TSS_Pow) # R-squared value\n",
    "\n",
    "RSS_Qua <- sum(residuals(QuaFit)^2) # Residual sum of squares\n",
    "TSS_Qua <- sum((Data2Fit$BodyWeight - mean(Data2Fit$BodyWeight))^2) # Total sum of squares\n",
    "RSq_Qua <- 1 - (RSS_Qua/TSS_Qua) # R-squared value\n",
    "\n",
    "RSq_Pow \n",
    "RSq_Qua"
   ]
  },
  {
   "cell_type": "markdown",
   "metadata": {},
   "source": [
    "Not very useful. In general, R$^2$ is a good measure of model fit, but cannot be used for model selection &ndash; especially not here, given the tiny difference in R$^2$'s.\n",
    "\n",
    "Instead, as explained in the [lecture](https://github.com/mhasoba/TheMulQuaBio/blob/master/lectures/ModelFitting), we can use the Akaike Information Criterion (AIC):"
   ]
  },
  {
   "cell_type": "code",
   "execution_count": 675,
   "metadata": {},
   "outputs": [
    {
     "data": {
      "text/html": [
       "-2.14742608125084"
      ],
      "text/latex": [
       "-2.14742608125084"
      ],
      "text/markdown": [
       "-2.14742608125084"
      ],
      "text/plain": [
       "[1] -2.147426"
      ]
     },
     "metadata": {},
     "output_type": "display_data"
    }
   ],
   "source": [
    "n <- nrow(Data2Fit) #set sample size\n",
    "pPow <- length(coef(PowFit)) # get number of parameters in power law model\n",
    "pQua <- length(coef(QuaFit)) # get number of parameters in quadratic model\n",
    "\n",
    "AIC_Pow <- n + 2 + n * log((2 * pi) / n) + n * log(RSS_Pow) + 2 * pPow\n",
    "AIC_Qua <- n + 2 + n * log((2 * pi) / n) + n * log(RSS_Qua) + 2 * pQua\n",
    "AIC_Pow - AIC_Qua"
   ]
  },
  {
   "cell_type": "markdown",
   "metadata": {},
   "source": [
    "Of course, as you might have suspected, we can do this using an in-built function in R! "
   ]
  },
  {
   "cell_type": "code",
   "execution_count": 676,
   "metadata": {},
   "outputs": [
    {
     "data": {
      "text/html": [
       "-2.1474260812509"
      ],
      "text/latex": [
       "-2.1474260812509"
      ],
      "text/markdown": [
       "-2.1474260812509"
      ],
      "text/plain": [
       "[1] -2.147426"
      ]
     },
     "metadata": {},
     "output_type": "display_data"
    }
   ],
   "source": [
    "AIC(PowFit) - AIC(QuaFit)"
   ]
  },
  {
   "cell_type": "markdown",
   "metadata": {},
   "source": [
    " * So which model wins? * As we had dicussed in the NLLS lecture, a rule of thumb is that a AIC value difference (typically denoted as $\\Delta$AIC) > 2 is a acceptable cutoff for calling a winner. So the power law (allometric model) is a better fit here. Read the [Johnson & Omland paper](https://github.com/mhasoba/TheMulQuaBio/blob/master/readings/Modelling/JohnsonOmland2004.pdf) for more on model selection in Ecology and Evolution. "
   ]
  },
  {
   "cell_type": "markdown",
   "metadata": {},
   "source": [
    "### Exercises <a id='ModelSelection_Exercises'></a>\n",
    "\n",
    "(a) Calculate the Bayesian Information Criterion (BIC), also know as the Schwarz Criterion (see your Lecture notes and the [Johnson & Omland paper](https://github.com/mhasoba/TheMulQuaBio/blob/master/readings/Modelling/JohnsonOmland2004.pdf), and use $\\Delta$BIC to select the better fitting model. \n",
    "\n",
    "(b) Fit a straight line to the same data and compare with the allometric and quadratic models.\n",
    "\n",
    "(c) Repeat the model comparison (incuding 1-2 above) using the Damselflies (Zygoptera) data subset -- does the allometric model still win?\n",
    "\n",
    "(d) Repeat exercise (e)(i) and (ii) from the [above set](#Allom_Exercises), but with model comparison (e.g., again using a quadratic as an alternative model) to establish that the relationships are indeed allometric.\n",
    "\n",
    "(e) Repeat exercise (e)(ii) from the [above set](#Allom_Exercises), but with model comparison to establish which linear measurement is the best predictor of Body weight."
   ]
  },
  {
   "cell_type": "markdown",
   "metadata": {},
   "source": [
    "## Albatross chick growth\n",
    "\n",
    "Now let's look at a different trait example: the growth of an individual albatross chick (you can find similar data for vector and non-vector arthropods in [VecTraits](https://vectorbyte.org/)). First load and plot the data:"
   ]
  },
  {
   "cell_type": "code",
   "execution_count": 677,
   "metadata": {
    "scrolled": true
   },
   "outputs": [
    {
     "data": {
      "image/png": "[encoded data removed]",
      "text/plain": [
       "plot without title"
      ]
     },
     "metadata": {
      "image/png": {
       "height": 240,
       "width": 240
      }
     },
     "output_type": "display_data"
    }
   ],
   "source": [
    "alb <- read.csv(file=\"../data/albatross_grow.csv\")\n",
    "alb <- subset(x=alb, !is.na(alb$wt))\n",
    "plot(alb$age, alb$wt, xlab=\"age (days)\", ylab=\"weight (g)\", xlim=c(0, 100))"
   ]
  },
  {
   "cell_type": "markdown",
   "metadata": {},
   "source": [
    "##### Fitting the three models using NLLS\n",
    "\n",
    "Let's fit multiple models to this dataset.\n",
    "\n",
    "The Von Bertalanffy model is commonly used for modelling the growth of an individual. It's formulation is:\n",
    "\n",
    "$$\n",
    "W(t) = \\rho (L_{\\infty}(1-e^{-Kt})+L_0 e^{-Kt})^3\n",
    "$$\n",
    "\n",
    "If we pull out $L_{\\infty}$ and define $c=L_0/L_{\\infty}$ and $W_{\\infty}=\\rho L_{\\infty}^3$ this equation becomes:\n",
    "\n",
    "$$\n",
    "W(t) = W_{\\infty}(1-e^{-Kt}+ c e^{-Kt})^3.\n",
    "$$\n",
    "\n",
    "$W_{\\infty}$ is interpreted as the mean asymptotic weight, and $c$ the ratio between the initial and final lengths. This second equation is the one we will fit.\n",
    "\n",
    "We will compare this model against the classical Logistic growth equation and a straight line.\n",
    "\n",
    "The logistic equation is:\n",
    "\n",
    "$$\n",
    "N_t = \\frac{N_0 K e^{r t}}{K + N_0 (e^{r t} - 1)}\n",
    "$$\n",
    "\n",
    "Here $N_t$ is population size at time $t$, $N_0$ is initial population size, $r$ is maximum growth rate (AKA $r_\\text{max}$), and $K$ is carrying capacity.\n",
    "\n",
    "\n",
    " First, as we did before, let's define the R functions for the two models:"
   ]
  },
  {
   "cell_type": "code",
   "execution_count": 678,
   "metadata": {},
   "outputs": [],
   "source": [
    "logistic1 <- function(t, r, K, N0){\n",
    " N0 * K * exp(r * t)/(K+N0 * (exp(r * t)-1))\n",
    "}\n",
    "\n",
    "vonbert.w <- function(t, Winf, c, K){\n",
    " Winf * (1 - exp(-K * t) + c * exp(-K * t))^3\n",
    "}"
   ]
  },
  {
   "cell_type": "markdown",
   "metadata": {},
   "source": [
    "For the straight line, we use simply use R's `lm()` function, as that is a linear least squares problem. Using NLLS will give (approximately) the same answer, of course. Now fit all 3 models using least squares. \n",
    "\n",
    "We will scale the data before fitting to improve the stability of the estimates:"
   ]
  },
  {
   "cell_type": "code",
   "execution_count": 679,
   "metadata": {},
   "outputs": [],
   "source": [
    "scale <- 4000\n",
    "\n",
    "alb.lin <- lm(wt/scale ~ age, data = alb)"
   ]
  },
  {
   "cell_type": "code",
   "execution_count": 680,
   "metadata": {},
   "outputs": [],
   "source": [
    "alb.log <- nlsLM(wt/scale~logistic1(age, r, K, N0), start=list(K=1, r=0.1, N0=0.1), data=alb)\n",
    "\n",
    "alb.vb <- nlsLM(wt/scale~vonbert.w(age, Winf, c, K), start=list(Winf=0.75, c=0.01, K=0.01), data=alb)"
   ]
  },
  {
   "cell_type": "markdown",
   "metadata": {},
   "source": [
    "Next let's calculate predictions for each of the models across a range of ages."
   ]
  },
  {
   "cell_type": "code",
   "execution_count": 681,
   "metadata": {},
   "outputs": [],
   "source": [
    "ages <- seq(0, 100, length=1000)\n",
    "\n",
    "pred.lin <- predict(alb.lin, newdata = list(age=ages)) * scale\n",
    "\n",
    "pred.log <- predict(alb.log, newdata = list(age=ages)) * scale\n",
    "\n",
    "pred.vb <- predict(alb.vb, newdata = list(age=ages)) * scale"
   ]
  },
  {
   "cell_type": "markdown",
   "metadata": {},
   "source": [
    "And finally plot the data with the fits:"
   ]
  },
  {
   "cell_type": "code",
   "execution_count": 682,
   "metadata": {},
   "outputs": [
    {
     "data": {
      "image/png": "[encoded data removed]",
      "text/plain": [
       "plot without title"
      ]
     },
     "metadata": {
      "image/png": {
       "height": 240,
       "width": 240
      }
     },
     "output_type": "display_data"
    }
   ],
   "source": [
    "plot(alb$age, alb$wt, xlab=\"age (days)\", ylab=\"weight (g)\", xlim=c(0,100))\n",
    "lines(ages, pred.lin, col=2, lwd=2)\n",
    "lines(ages, pred.log, col=3, lwd=2)\n",
    "lines(ages, pred.vb, col=4, lwd=2)\n",
    "\n",
    "legend(\"topleft\", legend = c(\"linear\", \"logistic\", \"Von Bert\"), lwd=2, lty=1, col=2:4)"
   ]
  },
  {
   "cell_type": "markdown",
   "metadata": {},
   "source": [
    "Next examine the residuals between the 3 models:"
   ]
  },
  {
   "cell_type": "code",
   "execution_count": 683,
   "metadata": {
    "scrolled": true
   },
   "outputs": [
    {
     "data": {
      "image/png": "[encoded data removed]",
      "text/plain": [
       "Plot with title “VB resids”"
      ]
     },
     "metadata": {
      "image/png": {
       "height": 240,
       "width": 240
      }
     },
     "output_type": "display_data"
    }
   ],
   "source": [
    "par(mfrow=c(3,1), bty=\"n\")\n",
    "plot(alb$age, resid(alb.lin), main=\"LM resids\", xlim=c(0,100))\n",
    "plot(alb$age, resid(alb.log), main=\"Logisitic resids\", xlim=c(0,100))\n",
    "plot(alb$age, resid(alb.vb), main=\"VB resids\", xlim=c(0,100))"
   ]
  },
  {
   "cell_type": "markdown",
   "metadata": {},
   "source": [
    "The residuals for all 3 models still exhibit some patterns. In particular, the data seems to go down near the end of the observation period, but none of these models can capture that behavior. \n",
    "\n",
    "Finally, let's compare the 3 models using a simpler approach than the AIC/BIC one that we used [above](#Allom_Exercises) by calculating adjusted Sums of Squared Errors (SSE's):"
   ]
  },
  {
   "cell_type": "code",
   "execution_count": 684,
   "metadata": {
    "scrolled": true
   },
   "outputs": [
    {
     "data": {
      "text/html": [
       "<dl>\n",
       "\t<dt>$lin</dt>\n",
       "\t\t<dd>0.00958</dd>\n",
       "\t<dt>$log</dt>\n",
       "\t\t<dd>0.0056</dd>\n",
       "\t<dt>$vb</dt>\n",
       "\t\t<dd>0.00628</dd>\n",
       "</dl>\n"
      ],
      "text/latex": [
       "\\begin{description}\n",
       "\\item[\\$lin] 0.00958\n",
       "\\item[\\$log] 0.0056\n",
       "\\item[\\$vb] 0.00628\n",
       "\\end{description}\n"
      ],
      "text/markdown": [
       "$lin\n",
       ":   0.00958\n",
       "$log\n",
       ":   0.0056\n",
       "$vb\n",
       ":   0.00628\n",
       "\n",
       "\n"
      ],
      "text/plain": [
       "$lin\n",
       "[1] 0.00958\n",
       "\n",
       "$log\n",
       "[1] 0.0056\n",
       "\n",
       "$vb\n",
       "[1] 0.00628\n"
      ]
     },
     "metadata": {},
     "output_type": "display_data"
    }
   ],
   "source": [
    "n <- length(alb$wt)\n",
    "list(lin=signif(sum(resid(alb.lin)^2)/(n-2 * 2), 3), \n",
    " log= signif(sum(resid(alb.log)^2)/(n-2 * 3), 3), \n",
    " vb= signif(sum(resid(alb.vb)^2)/(n-2 * 3), 3))   "
   ]
  },
  {
   "cell_type": "markdown",
   "metadata": {},
   "source": [
    "The adjusted SSE accounts for sample size and number of parameters by dividing the RSS by the residual degrees of freedom. Adjusted SSE can also be used for model selection like AIC/BIC (but is less robust than AIC/BIC). The residual degrees of freedom is calculated as the number of response values (sample size, $n$) minus 2, times the number of fitted coefficients $m$ (= 2 or 3 in this case) estimated.\n",
    "\n",
    "The logistic model has the lowest adjusted SSE, so it's the best by this measure. It is also, visually, a better fit. "
   ]
  },
  {
   "cell_type": "markdown",
   "metadata": {},
   "source": [
    "### Exercises <a id='Albatross_Exercises'></a>\n",
    "\n",
    "(a) Use AIC/BIC to perform model selection on the Albatross data as we did for the trait allometry example.\n",
    "\n",
    "(b) Write this example as a self-sufficient R script, with ggplot istead of base plotting "
   ]
  },
  {
   "cell_type": "markdown",
   "metadata": {},
   "source": [
    "## Aedes aegypti fecundity\n",
    "\n",
    "Now let's look at a disease vector example. These data measure the reponse of * Aedes aegypti * fecundity to temperature. \n",
    "\n",
    "First load and visualize the data:"
   ]
  },
  {
   "cell_type": "code",
   "execution_count": 685,
   "metadata": {},
   "outputs": [
    {
     "data": {
      "image/png": "[encoded data removed]",
      "text/plain": [
       "plot without title"
      ]
     },
     "metadata": {
      "image/png": {
       "height": 240,
       "width": 240
      }
     },
     "output_type": "display_data"
    }
   ],
   "source": [
    "aedes <- read.csv(file=\"../data/aedes_fecund.csv\")\n",
    "\n",
    "plot(aedes$T, aedes$EFD, xlab=\"temperature (C)\", ylab=\"Eggs/day\")"
   ]
  },
  {
   "cell_type": "markdown",
   "metadata": {},
   "source": [
    "(Model-Fitting-NLLS-TPCs)=\n",
    "### The Thermal Performance Curve models\n",
    "\n",
    "Let's define some models for Thermal Performance Curves:"
   ]
  },
  {
   "cell_type": "code",
   "execution_count": 686,
   "metadata": {},
   "outputs": [],
   "source": [
    "quad1 <- function(T, T0, Tm, c){\n",
    " c * (T-T0) * (T-Tm) * as.numeric(T<Tm) * as.numeric(T>T0)\n",
    "}"
   ]
  },
  {
   "cell_type": "markdown",
   "metadata": {},
   "source": [
    "Instead of using the inbuilt quadratic function in R, we we defined our own to make it easier to choose starting values, and so that we can force the function to be equal to zero above and below the minimum and maximum temperature thresholds (more on this below)."
   ]
  },
  {
   "cell_type": "code",
   "execution_count": 687,
   "metadata": {},
   "outputs": [],
   "source": [
    "briere <- function(T, T0, Tm, c){\n",
    " c * T * (T-T0) * (abs(Tm-T)^(1/2)) * as.numeric(T<Tm) * as.numeric(T>T0)\n",
    "}"
   ]
  },
  {
   "cell_type": "markdown",
   "metadata": {},
   "source": [
    "The Briere function is a commonly used model for temperature dependence of insect traits. See here [section](Miniproj-TPCs-Models) for more info. Unlike the original [model definition](Miniproj-TPCs-Models), we have used `abs()` to allow the NLLS algorithm to explore the full parameter space of $T_m$; if we did not do this, the NLLS could fail as soon as a value of $T_m < T$ was reached during the optimization, because the [square root of a negative number is complex](https://en.wikipedia.org/wiki/Square_root). Another way to deal with this issue is to set parameter bounds on $T_m$ so that it is can never be less than T. However, this is a more technical approach that we will not go into here.   \n",
    " \n",
    "As in the case of the albatross growth data, we will also compare the above two models with a * straight line * (again, its a linear model, so we can just use `lm()` without needing to define a function for it). \n",
    "\n",
    "Now fit all 3 models using least squares. Although it's not as necessary here (as the data don't have as large values as the albatross example), lets again scale the data first: "
   ]
  },
  {
   "cell_type": "code",
   "execution_count": 688,
   "metadata": {},
   "outputs": [],
   "source": [
    "scale <- 20\n",
    "\n",
    "aed.lin <- lm(EFD/scale ~ T, data=aedes)\n",
    "\n",
    "aed.quad <- nlsLM(EFD/scale~quad1(T, T0, Tm, c), start=list(T0=10, Tm=40, c=0.01), data=aedes)\n",
    "\n",
    "aed.br <- nlsLM(EFD/scale~briere(T, T0, Tm, c), start=list(T0=10, Tm=40, c=0.1), data=aedes)"
   ]
  },
  {
   "cell_type": "markdown",
   "metadata": {},
   "source": [
    "### Exercises <a id='Aedes_Exercises'></a>\n",
    "\n",
    "(a) Complete the * Aedes * data analysis by fitting the models, calculating predictions and then comparing models. Write a single, self-standing script for it. Which model fits best? By what measure?\n",
    "\n",
    "(b) In this script, use ggplot instead of base plotting."
   ]
  },
  {
   "cell_type": "markdown",
   "metadata": {},
   "source": [
    "## Abundance data as an example\n",
    "\n",
    "Fluctuations in the abundance (density) of single populations may play a crucial role in ecosystem dynamics and emergent functional characteristics, such as rates of carbon fixation or disease transmission. For example, if vector population densities or their traits change at the same or shorter timescales than the rate of disease transmission, then (vector) abundance fluctuations can cause significant fluctuations in disease transmission rates. Indeed, most disease vectors are small ectotherms with short generation times and greater sensitivity to environmental conditions than their (invariably larger, longer-lived, and often, endothermic) hosts. So understanding how populations vary over time, space, and with respect to environmental variables such as temperature and precipitation is key. We will look at fitting models to the growth of a single population here. \n",
    "\n",
    "(Model-Fitting-R-Population-Growth)=\n",
    "\n",
    "## Population growth rates\n",
    "\n",
    "A population grows exponentially while its abundance is low and resources are not limiting (the Malthusian principle). This growth then slows and eventually stops as resources become limiting. There may also be a time lag before the population growth really takes off at the start. We will focus on microbial (specifically, bacterial) growth rates. Bacterial growth in batch culture follows a distinct set of phases; lag phase, exponential phase and stationary phase. During the lag phase a suite of transcriptional machinery is activated, including genes involved in nutrient uptake and metabolic changes, as bacteria prepare for growth. During the exponential growth phase, bacteria divide at a constant rate, the population doubling with each generation. When the carrying capacity of the media is reached, growth slows and the number of cells in the culture stabilizes, beginning the stationary phase. \n",
    "\n",
    "Traditionally, microbial growth rates were measured by plotting cell numbers or culture density against time on a semi-log graph and fitting a straight line through the exponential growth phase &ndash; the slope of the line gives the maximum growth rate ($r_{max}$). Models have since been developed which we can use to describe the whole sigmoidal bacterial growth curve (e.g., using NLLS). Here we will take a look at these different approaches, from applying linear models to the exponential phase, through to fitting non-linear models to the full growth curve.\n",
    "\n",
    "Let's first generate some \"data\" on the number of bacterial cells as a function of time that we can play with:"
   ]
  },
  {
   "cell_type": "code",
   "execution_count": 689,
   "metadata": {
    "scrolled": true
   },
   "outputs": [
    {
     "data": {
      "text/html": [
       "<table>\n",
       "<caption>A data.frame: 6 × 2</caption>\n",
       "<thead>\n",
       "\t<tr><th></th><th scope=col>Time</th><th scope=col>N</th></tr>\n",
       "\t<tr><th></th><th scope=col>&lt;dbl&gt;</th><th scope=col>&lt;dbl&gt;</th></tr>\n",
       "</thead>\n",
       "<tbody>\n",
       "\t<tr><th scope=row>1</th><td> 0</td><td>  28577.04</td></tr>\n",
       "\t<tr><th scope=row>2</th><td> 2</td><td>  33915.52</td></tr>\n",
       "\t<tr><th scope=row>3</th><td> 4</td><td>  42120.88</td></tr>\n",
       "\t<tr><th scope=row>4</th><td> 6</td><td>  80370.17</td></tr>\n",
       "\t<tr><th scope=row>5</th><td> 8</td><td> 464096.05</td></tr>\n",
       "\t<tr><th scope=row>6</th><td>10</td><td>1502365.99</td></tr>\n",
       "</tbody>\n",
       "</table>\n"
      ],
      "text/latex": [
       "A data.frame: 6 × 2\n",
       "\\begin{tabular}{r|ll}\n",
       "  & Time & N\\\\\n",
       "  & <dbl> & <dbl>\\\\\n",
       "\\hline\n",
       "\t1 &  0 &   28577.04\\\\\n",
       "\t2 &  2 &   33915.52\\\\\n",
       "\t3 &  4 &   42120.88\\\\\n",
       "\t4 &  6 &   80370.17\\\\\n",
       "\t5 &  8 &  464096.05\\\\\n",
       "\t6 & 10 & 1502365.99\\\\\n",
       "\\end{tabular}\n"
      ],
      "text/markdown": [
       "\n",
       "A data.frame: 6 × 2\n",
       "\n",
       "| <!--/--> | Time &lt;dbl&gt; | N &lt;dbl&gt; |\n",
       "|---|---|---|\n",
       "| 1 |  0 |   28577.04 |\n",
       "| 2 |  2 |   33915.52 |\n",
       "| 3 |  4 |   42120.88 |\n",
       "| 4 |  6 |   80370.17 |\n",
       "| 5 |  8 |  464096.05 |\n",
       "| 6 | 10 | 1502365.99 |\n",
       "\n"
      ],
      "text/plain": [
       "  Time N         \n",
       "1  0     28577.04\n",
       "2  2     33915.52\n",
       "3  4     42120.88\n",
       "4  6     80370.17\n",
       "5  8    464096.05\n",
       "6 10   1502365.99"
      ]
     },
     "metadata": {},
     "output_type": "display_data"
    }
   ],
   "source": [
    "t <- seq(0, 22, 2)\n",
    "N <- c(32500, 33000, 38000, 105000, 445000, 1430000, 3020000, 4720000, 5670000, 5870000, 5930000, 5940000)\n",
    "\n",
    "set.seed(1234) # set seed to ensure you always get the same random sequence \n",
    "\n",
    "data <- data.frame(t, N * (1 + rnorm(length(t), sd = 0.1))) # add some random error\n",
    "\n",
    "names(data) <- c(\"Time\", \"N\")\n",
    "\n",
    "head(data)"
   ]
  },
  {
   "cell_type": "markdown",
   "metadata": {},
   "source": [
    "Note how we added some random \"sampling\" error using `N * (1 + rnorm(length(t), sd = .1))`. \n",
    "\n",
    "This means that we are adding an error at each time point $t$ (let's call this fluctuation $\\epsilon_t$) as a * percentage * of the population ($N_t$) at that time point in a vectorized way. That is, we are performing the operation $N_t \\times (1 + \\epsilon_t)$ at all time points at one go. This is important to note because this is often the way that errors appear &ndash; proportional to the value being measured."
   ]
  },
  {
   "cell_type": "markdown",
   "metadata": {},
   "source": [
    "Now let's plot these data:"
   ]
  },
  {
   "cell_type": "code",
   "execution_count": 690,
   "metadata": {},
   "outputs": [
    {
     "data": {
      "image/png": "[encoded data removed]",
      "text/plain": [
       "plot without title"
      ]
     },
     "metadata": {
      "image/png": {
       "height": 240,
       "width": 240
      }
     },
     "output_type": "display_data"
    }
   ],
   "source": [
    "ggplot(data, aes(x = Time, y = N)) + \n",
    " geom_point(size = 3) +\n",
    " labs(x = \"Time (Hours)\", y = \"Population size (cells)\")"
   ]
  },
  {
   "cell_type": "markdown",
   "metadata": {},
   "source": [
    "#### Basic approach\n",
    "\n",
    "The size of an exponentially growing population ($N$) at any given time ($t$) is given by:\n",
    "\n",
    "$\n",
    "N(t) = N_0 e^{rt} ,\n",
    "$\n",
    "\n",
    "where $N_0$ is the initial population size and $r$ is the growth rate. We can re-arrange this to give:\n",
    "\n",
    "$\n",
    "r = \\frac{\\log(N(t)) - \\log(N_0)}{t} ,\n",
    "$\n",
    "\n",
    "That is, in exponential growth at a constant rate, the growth rate can be simply calculated as the difference in the log of two population sizes, over time. We will log-transform the data and estimate by eye where growth looks exponential."
   ]
  },
  {
   "cell_type": "code",
   "execution_count": 691,
   "metadata": {},
   "outputs": [
    {
     "data": {
      "image/png": "[encoded data removed]",
      "text/plain": [
       "plot without title"
      ]
     },
     "metadata": {
      "image/png": {
       "height": 240,
       "width": 240
      }
     },
     "output_type": "display_data"
    }
   ],
   "source": [
    "data$LogN <- log(data$N)\n",
    "\n",
    "# visualise\n",
    "ggplot(data, aes(x = t, y = LogN)) + \n",
    " geom_point(size = 3) +\n",
    " labs(x = \"Time (Hours)\", y = \"log(cell number)\")"
   ]
  },
  {
   "cell_type": "markdown",
   "metadata": {},
   "source": [
    "By eye the logged data looks fairly linear (beyond the initial \"lag phase\" of growth; see below) between hours 5 and 10, so we'll use that time-period to calculate the growth rate. "
   ]
  },
  {
   "cell_type": "code",
   "execution_count": 692,
   "metadata": {
    "scrolled": true
   },
   "outputs": [
    {
     "data": {
      "text/html": [
       "0.732038333517017"
      ],
      "text/latex": [
       "0.732038333517017"
      ],
      "text/markdown": [
       "0.732038333517017"
      ],
      "text/plain": [
       "[1] 0.7320383"
      ]
     },
     "metadata": {},
     "output_type": "display_data"
    }
   ],
   "source": [
    "(data[data$Time == 10,]$LogN - data[data$Time == 6,]$LogN)/(10-6)"
   ]
  },
  {
   "cell_type": "markdown",
   "metadata": {},
   "source": [
    "This is our first, most basic estimate of $r$.\n",
    "\n",
    "Or, we can decide not to eyeball the data, but just pick the maximum observed gradient of the curve. For this, we can use the the `diff()` function:"
   ]
  },
  {
   "cell_type": "code",
   "execution_count": 693,
   "metadata": {
    "scrolled": true
   },
   "outputs": [
    {
     "data": {
      "text/html": [
       "<style>\n",
       ".list-inline {list-style: none; margin:0; padding: 0}\n",
       ".list-inline>li {display: inline-block}\n",
       ".list-inline>li:not(:last-child)::after {content: \"\\00b7\"; padding: 0 .5ex}\n",
       "</style>\n",
       "<ol class=list-inline><li>0.171269154259665</li><li>0.216670872460636</li><li>0.646099642770272</li><li>1.75344839347772</li><li>1.17470494059035</li><li>0.639023867964838</li><li>0.44952974020198</li><li>0.181493481601755</li><li>-0.000450183952025895</li><li>0.0544907101941003</li><li>-0.0546009242768832</li></ol>\n"
      ],
      "text/latex": [
       "\\begin{enumerate*}\n",
       "\\item 0.171269154259665\n",
       "\\item 0.216670872460636\n",
       "\\item 0.646099642770272\n",
       "\\item 1.75344839347772\n",
       "\\item 1.17470494059035\n",
       "\\item 0.639023867964838\n",
       "\\item 0.44952974020198\n",
       "\\item 0.181493481601755\n",
       "\\item -0.000450183952025895\n",
       "\\item 0.0544907101941003\n",
       "\\item -0.0546009242768832\n",
       "\\end{enumerate*}\n"
      ],
      "text/markdown": [
       "1. 0.171269154259665\n",
       "2. 0.216670872460636\n",
       "3. 0.646099642770272\n",
       "4. 1.75344839347772\n",
       "5. 1.17470494059035\n",
       "6. 0.639023867964838\n",
       "7. 0.44952974020198\n",
       "8. 0.181493481601755\n",
       "9. -0.000450183952025895\n",
       "10. 0.0544907101941003\n",
       "11. -0.0546009242768832\n",
       "\n",
       "\n"
      ],
      "text/plain": [
       " [1]  0.171269154  0.216670872  0.646099643  1.753448393  1.174704941\n",
       " [6]  0.639023868  0.449529740  0.181493482 -0.000450184  0.054490710\n",
       "[11] -0.054600924"
      ]
     },
     "metadata": {},
     "output_type": "display_data"
    }
   ],
   "source": [
    "diff(data$LogN)"
   ]
  },
  {
   "cell_type": "markdown",
   "metadata": {},
   "source": [
    "This gives all the (log) population size differences between successive timepoint pairs. The max of this is what we want, divided by the time-step."
   ]
  },
  {
   "cell_type": "code",
   "execution_count": 694,
   "metadata": {},
   "outputs": [
    {
     "data": {
      "text/html": [
       "0.87672419673886"
      ],
      "text/latex": [
       "0.87672419673886"
      ],
      "text/markdown": [
       "0.87672419673886"
      ],
      "text/plain": [
       "[1] 0.8767242"
      ]
     },
     "metadata": {},
     "output_type": "display_data"
    }
   ],
   "source": [
    "max(diff(data$LogN))/2 # 2 is the difference in any successive pair of timepoints"
   ]
  },
  {
   "cell_type": "markdown",
   "metadata": {},
   "source": [
    "### Using OLS\n",
    "\n",
    "But we can do better than this. To account for some error in measurement, we shouldn't really take the data points directly, but fit a linear model through them instead, where the slope gives our growth rate. This is pretty much the \"traditional\" way of calculating microbial growth rates &ndash; draw a straight line through the linear part of the log-transformed data."
   ]
  },
  {
   "cell_type": "code",
   "execution_count": 695,
   "metadata": {
    "scrolled": true
   },
   "outputs": [
    {
     "data": {
      "text/plain": [
       "\n",
       "Call:\n",
       "lm(formula = LogN ~ Time, data = data[data$Time > 2 & data$Time < \n",
       "    12, ])\n",
       "\n",
       "Residuals:\n",
       "       3        4        5        6 \n",
       " 0.21646 -0.38507  0.12076  0.04785 \n",
       "\n",
       "Coefficients:\n",
       "            Estimate Std. Error t value Pr(>|t|)   \n",
       "(Intercept)   7.9366     0.5350  14.835  0.00451 **\n",
       "Time          0.6238     0.0728   8.569  0.01335 * \n",
       "---\n",
       "Signif. codes:  0 ‘***’ 0.001 ‘**’ 0.01 ‘*’ 0.05 ‘.’ 0.1 ‘ ’ 1\n",
       "\n",
       "Residual standard error: 0.3256 on 2 degrees of freedom\n",
       "Multiple R-squared:  0.9735,\tAdjusted R-squared:  0.9602 \n",
       "F-statistic: 73.42 on 1 and 2 DF,  p-value: 0.01335\n"
      ]
     },
     "metadata": {},
     "output_type": "display_data"
    }
   ],
   "source": [
    "lm_growth <- lm(LogN ~ Time, data = data[data$Time > 2 & data$Time < 12,])\n",
    "summary(lm_growth)"
   ]
  },
  {
   "cell_type": "markdown",
   "metadata": {},
   "source": [
    "Npw we get $r \\approx 0.62$, which is probably closer to the \"truth\". \n",
    "\n",
    "But this is still not ideal because we only guessed the exponential phase by eye. We could do it better by iterating through different windows of points, comparing the slopes and finding which the highest is to give the maximum growth rate, $r_{max}$. This is called a \"rolling regression\". \n",
    "\n",
    "Or better still, we can fit a more appropriate mathematical model using NLLS!"
   ]
  },
  {
   "cell_type": "markdown",
   "metadata": {},
   "source": [
    "### Using NLLS\n",
    "\n",
    "For starters, a classical, (somewhat) mechanistic model is the logistic equation:\n",
    "\n",
    "$$\n",
    "N_t = \\frac{N_0 K e^{r t}}{K + N_0 (e^{r t} - 1)}\n",
    "$$(eq:logist_growth_sol)\n",
    "\n",
    "Here $N_t$ is population size at time $t$, $N_0$ is initial population size, $r$ is maximum growth rate (AKA $r_\\text{max}$), and $K$ is carrying capacity (maximum possible abundance of the population). Note that this model is actually the solution to the differential equation that defines the classic logistic population growth model (eqn. {eq}`eq:logist_growth`). \n",
    "\n",
    "```{note}\n",
    "The derivation of eqn. {eq}`eq:logist_growth_sol` is covered [here](Logistic-Population-Growth). But you don't need to know the derivation to fit eqn. {eq}`eq:logist_growth_sol` to data. \n",
    "```\n",
    "\n",
    "Let's fit it to the data. First, we need to define it as a function object:"
   ]
  },
  {
   "cell_type": "code",
   "execution_count": 696,
   "metadata": {},
   "outputs": [],
   "source": [
    "logistic_model <- function(t, r_max, K, N_0){ # The classic logistic equation\n",
    " return(N_0 * K * exp(r_max * t)/(K + N_0 * (exp(r_max * t) - 1)))\n",
    "}"
   ]
  },
  {
   "cell_type": "markdown",
   "metadata": {},
   "source": [
    "Now fit it:"
   ]
  },
  {
   "cell_type": "code",
   "execution_count": 697,
   "metadata": {
    "scrolled": true
   },
   "outputs": [
    {
     "data": {
      "text/plain": [
       "\n",
       "Formula: N ~ logistic_model(t = Time, r_max, K, N_0)\n",
       "\n",
       "Parameters:\n",
       "       Estimate Std. Error t value Pr(>|t|)    \n",
       "r_max 6.309e-01  3.791e-02  16.641 4.56e-08 ***\n",
       "N_0   3.317e+03  1.451e+03   2.286   0.0481 *  \n",
       "K     5.538e+06  7.192e+04  76.995 5.32e-14 ***\n",
       "---\n",
       "Signif. codes:  0 ‘***’ 0.001 ‘**’ 0.01 ‘*’ 0.05 ‘.’ 0.1 ‘ ’ 1\n",
       "\n",
       "Residual standard error: 119200 on 9 degrees of freedom\n",
       "\n",
       "Number of iterations to convergence: 12 \n",
       "Achieved convergence tolerance: 1.49e-08\n"
      ]
     },
     "metadata": {},
     "output_type": "display_data"
    }
   ],
   "source": [
    "# first we need some starting parameters for the model\n",
    "N_0_start <- min(data$N) # lowest population size\n",
    "K_start <- max(data$N) # highest population size\n",
    "r_max_start <- 0.62 # use our estimate from the OLS fitting from above\n",
    "\n",
    "fit_logistic <- nlsLM(N ~ logistic_model(t = Time, r_max, K, N_0), data,\n",
    "      list(r_max=r_max_start, N_0 = N_0_start, K = K_start))\n",
    "\n",
    "summary(fit_logistic)"
   ]
  },
  {
   "cell_type": "markdown",
   "metadata": {},
   "source": [
    "We did not pay much attention to what starting values we used in the simpler example of fitting the allometric model because the power-law model is easy to fit using NLLS, and starting far from the optimal parameters does not matter too much. Here, we used the actual data to generate more realistic start values for each of the three parameters (`r_max`, `N_0`, `K`) of the Logistic equation."
   ]
  },
  {
   "cell_type": "markdown",
   "metadata": {},
   "source": [
    "Now, plot the fit:"
   ]
  },
  {
   "cell_type": "code",
   "execution_count": 698,
   "metadata": {},
   "outputs": [
    {
     "data": {
      "image/png": "[encoded data removed]",
      "text/plain": [
       "plot without title"
      ]
     },
     "metadata": {
      "image/png": {
       "height": 240,
       "width": 240
      }
     },
     "output_type": "display_data"
    }
   ],
   "source": [
    "timepoints <- seq(0, 22, 0.1)\n",
    "\n",
    "logistic_points <- logistic_model(t = timepoints, \n",
    "         r_max = coef(fit_logistic)[\"r_max\"], \n",
    "         K = coef(fit_logistic)[\"K\"], \n",
    "         N_0 = coef(fit_logistic)[\"N_0\"])\n",
    "df1 <- data.frame(timepoints, logistic_points)\n",
    "df1$model <- \"Logistic equation\"\n",
    "names(df1) <- c(\"Time\", \"N\", \"model\")\n",
    "\n",
    "ggplot(data, aes(x = Time, y = N)) +\n",
    " geom_point(size = 3) +\n",
    " geom_line(data = df1, aes(x = Time, y = N, col = model), size = 1) +\n",
    " theme(aspect.ratio=1)+ # make the plot square \n",
    " labs(x = \"Time\", y = \"Cell number\")"
   ]
  },
  {
   "cell_type": "markdown",
   "metadata": {},
   "source": [
    "That looks nice, and the $r_{max}$ estimate we get (0.64) is fairly close to what we got above with OLS fitting. \n",
    "\n",
    "Note that we've done this fitting to the original non transformed data, whilst the linear regressions earlier were on log transformed data. What would this function look like on a log-transformed axis?"
   ]
  },
  {
   "cell_type": "code",
   "execution_count": 699,
   "metadata": {
    "scrolled": true
   },
   "outputs": [
    {
     "data": {
      "image/png": "[encoded data removed]",
      "text/plain": [
       "plot without title"
      ]
     },
     "metadata": {
      "image/png": {
       "height": 240,
       "width": 240
      }
     },
     "output_type": "display_data"
    }
   ],
   "source": [
    "ggplot(data, aes(x = Time, y = LogN)) +\n",
    " geom_point(size = 3) +\n",
    " geom_line(data = df1, aes(x = Time, y = log(N), col = model), size = 1) +\n",
    " theme(aspect.ratio=1)+ \n",
    " labs(x = \"Time\", y = \"log(Cell number)\")"
   ]
  },
  {
   "cell_type": "markdown",
   "metadata": {},
   "source": [
    "The model actually diverges from the data at the lower end! This was not visible in the previous plot where you examined the model in linear scale (without taking a log) because the deviation of the model is small, and only becomes clear in the log scale. This is because of the way logarithms work. Let's have a look at this in our Cell counts \"data\":"
   ]
  },
  {
   "cell_type": "code",
   "execution_count": 700,
   "metadata": {
    "scrolled": true
   },
   "outputs": [
    {
     "data": {
      "image/png": "[encoded data removed]",
      "text/plain": [
       "plot without title"
      ]
     },
     "metadata": {
      "image/png": {
       "height": 240,
       "width": 240
      }
     },
     "output_type": "display_data"
    }
   ],
   "source": [
    "ggplot(data, aes(x = N, y = LogN)) +\n",
    " geom_point(size = 3) +\n",
    " theme(aspect.ratio = 1)+ \n",
    " labs(x = \"N\", y = \"log(N)\")"
   ]
  },
  {
   "cell_type": "markdown",
   "metadata": {},
   "source": [
    "As you can see the logarithm is a strongly nonlinear transformation of any sequence of real numbers, with small numbers close to zero yielding disproportionately large deviations."
   ]
  },
  {
   "cell_type": "markdown",
   "metadata": {},
   "source": [
    "```{note} \n",
    "You may play with increasing the error (by increasing the value of `sd` in synthetic data generation step above) and re-evaluating all the subsequent model fitting steps above. However, note that above some values of `sd`, you will start to get negative values of populations, especially at early time points, which will raise issues with taking a logarithm.\n",
    "```"
   ]
  },
  {
   "cell_type": "markdown",
   "metadata": {},
   "source": [
    "The above seen deviation of the Logistic model from the data is because this model assumes that the population is growing right from the start (Time = 0), while in \"reality\" (in our synthetic \"data\"), this is not what's happening; the population takes a while to grow truly exponentially (i.e., there is a time lag in the population growth). This time lag is seen frequently in the lab, and is also expected in nature, because when bacteria encounter fresh growth media (in the lab) or a new resource/environment (in the field), they take some time to acclimate, activating genes involved in nutrient uptake and metabolic processes, before beginning exponential growth. This is called the lag phase and can be seen in our example data where exponential growth doesn't properly begin until around the 4th hour.\n",
    "\n",
    "To capture the lag phase, more complicated bacterial growth models have been designed. \n",
    "\n",
    "One of these is the modified Gompertz model (Zwietering et. al., 1990), which has been used frequently in the literature to model bacterial growth:\n",
    "\n",
    "$$ \n",
    "  \\log(N_t) = N_0 + (N_{max} - N_0) e^{-e^{r_{max} \\exp(1) \\frac{t_{lag} - t}{(N_{max} - N_0) \\log(10)} + 1}}\n",
    "$$(eq:Gompertz)\n",
    "\n",
    "Here maximum growth rate ($r_{max}$) is the tangent to the inflection point, $t_{lag}$ is the x-axis intercept to this tangent (duration of the delay before the population starts growing exponentially) and $\\log\\left(\\frac{N_{max}}{N_0}\\right)$ is the asymptote of the log-transformed population growth trajectory, i.e., the log ratio of maximum population density $N_{max}$ (aka \"carrying capacity\") and initial cell (Population) $N_0$ density."
   ]
  },
  {
   "cell_type": "markdown",
   "metadata": {},
   "source": [
    "```{note}\n",
    "Note that unlike the Logistic growth model above, the Gompertz model is in the log scale. This is because the model is not derived from a differential equation, but was designed * specifically * to be fitted to log-transformed data.\n",
    "```\n",
    "\n",
    "Now let's fit and compare the two alternative nonlinear growth models: Logistic and Gompertz. \n",
    "\n",
    "First, specify the function object for the Gompertz model (we already defined the function for the Logistic model above):"
   ]
  },
  {
   "cell_type": "code",
   "execution_count": 701,
   "metadata": {},
   "outputs": [],
   "source": [
    "gompertz_model <- function(t, r_max, K, N_0, t_lag){ # Modified gompertz growth model (Zwietering 1990)\n",
    " return(N_0 + (K - N_0) * exp(-exp(r_max * exp(1) * (t_lag - t)/((K - N_0) * log(10)) + 1)))\n",
    "}   "
   ]
  },
  {
   "cell_type": "markdown",
   "metadata": {},
   "source": [
    "Again, note that unlike the Logistic growth function above, this function has been written in the log scale. \n",
    "\n",
    "Now let's generate some starting values for the NLLS fitting of the Gompertz model. \n",
    "\n",
    "As we did above for the logistic equation, let's derive the starting values by using the actual data: "
   ]
  },
  {
   "cell_type": "code",
   "execution_count": 702,
   "metadata": {},
   "outputs": [],
   "source": [
    "N_0_start <- min(data$LogN) # lowest population size, note log scale\n",
    "K_start <- max(data$LogN) # highest population size, note log scale\n",
    "r_max_start <- 0.62 # use our previous estimate from the OLS fitting from above\n",
    "t_lag_start <- data$Time[which.max(diff(diff(data$LogN)))] # find last timepoint of lag phase"
   ]
  },
  {
   "cell_type": "markdown",
   "metadata": {},
   "source": [
    " * So how did we find a reasonable time lag from the data? * \n",
    "\n",
    "Let's break the last command down:"
   ]
  },
  {
   "cell_type": "code",
   "execution_count": 703,
   "metadata": {},
   "outputs": [
    {
     "data": {
      "text/html": [
       "<style>\n",
       ".list-inline {list-style: none; margin:0; padding: 0}\n",
       ".list-inline>li {display: inline-block}\n",
       ".list-inline>li:not(:last-child)::after {content: \"\\00b7\"; padding: 0 .5ex}\n",
       "</style>\n",
       "<ol class=list-inline><li>0.171269154259665</li><li>0.216670872460636</li><li>0.646099642770272</li><li>1.75344839347772</li><li>1.17470494059035</li><li>0.639023867964838</li><li>0.44952974020198</li><li>0.181493481601755</li><li>-0.000450183952025895</li><li>0.0544907101941003</li><li>-0.0546009242768832</li></ol>\n"
      ],
      "text/latex": [
       "\\begin{enumerate*}\n",
       "\\item 0.171269154259665\n",
       "\\item 0.216670872460636\n",
       "\\item 0.646099642770272\n",
       "\\item 1.75344839347772\n",
       "\\item 1.17470494059035\n",
       "\\item 0.639023867964838\n",
       "\\item 0.44952974020198\n",
       "\\item 0.181493481601755\n",
       "\\item -0.000450183952025895\n",
       "\\item 0.0544907101941003\n",
       "\\item -0.0546009242768832\n",
       "\\end{enumerate*}\n"
      ],
      "text/markdown": [
       "1. 0.171269154259665\n",
       "2. 0.216670872460636\n",
       "3. 0.646099642770272\n",
       "4. 1.75344839347772\n",
       "5. 1.17470494059035\n",
       "6. 0.639023867964838\n",
       "7. 0.44952974020198\n",
       "8. 0.181493481601755\n",
       "9. -0.000450183952025895\n",
       "10. 0.0544907101941003\n",
       "11. -0.0546009242768832\n",
       "\n",
       "\n"
      ],
      "text/plain": [
       " [1]  0.171269154  0.216670872  0.646099643  1.753448393  1.174704941\n",
       " [6]  0.639023868  0.449529740  0.181493482 -0.000450184  0.054490710\n",
       "[11] -0.054600924"
      ]
     },
     "metadata": {},
     "output_type": "display_data"
    }
   ],
   "source": [
    "diff(data$LogN) # same as what we did above - get differentials"
   ]
  },
  {
   "cell_type": "code",
   "execution_count": 704,
   "metadata": {},
   "outputs": [
    {
     "data": {
      "text/html": [
       "<style>\n",
       ".list-inline {list-style: none; margin:0; padding: 0}\n",
       ".list-inline>li {display: inline-block}\n",
       ".list-inline>li:not(:last-child)::after {content: \"\\00b7\"; padding: 0 .5ex}\n",
       "</style>\n",
       "<ol class=list-inline><li>0.0454017182009707</li><li>0.429428770309636</li><li>1.10734875070745</li><li>-0.578743452887371</li><li>-0.535681072625511</li><li>-0.189494127762858</li><li>-0.268036258600224</li><li>-0.181943665553781</li><li>0.0549408941461262</li><li>-0.109091634470984</li></ol>\n"
      ],
      "text/latex": [
       "\\begin{enumerate*}\n",
       "\\item 0.0454017182009707\n",
       "\\item 0.429428770309636\n",
       "\\item 1.10734875070745\n",
       "\\item -0.578743452887371\n",
       "\\item -0.535681072625511\n",
       "\\item -0.189494127762858\n",
       "\\item -0.268036258600224\n",
       "\\item -0.181943665553781\n",
       "\\item 0.0549408941461262\n",
       "\\item -0.109091634470984\n",
       "\\end{enumerate*}\n"
      ],
      "text/markdown": [
       "1. 0.0454017182009707\n",
       "2. 0.429428770309636\n",
       "3. 1.10734875070745\n",
       "4. -0.578743452887371\n",
       "5. -0.535681072625511\n",
       "6. -0.189494127762858\n",
       "7. -0.268036258600224\n",
       "8. -0.181943665553781\n",
       "9. 0.0549408941461262\n",
       "10. -0.109091634470984\n",
       "\n",
       "\n"
      ],
      "text/plain": [
       " [1]  0.04540172  0.42942877  1.10734875 -0.57874345 -0.53568107 -0.18949413\n",
       " [7] -0.26803626 -0.18194367  0.05494089 -0.10909163"
      ]
     },
     "metadata": {},
     "output_type": "display_data"
    }
   ],
   "source": [
    "diff(diff(data$LogN)) # get the differentials of the differentials (approx 2nd order derivatives)"
   ]
  },
  {
   "cell_type": "code",
   "execution_count": 705,
   "metadata": {},
   "outputs": [
    {
     "data": {
      "text/html": [
       "3"
      ],
      "text/latex": [
       "3"
      ],
      "text/markdown": [
       "3"
      ],
      "text/plain": [
       "[1] 3"
      ]
     },
     "metadata": {},
     "output_type": "display_data"
    }
   ],
   "source": [
    "which.max(diff(diff(data$LogN))) # find the timepoint where this 2nd order derivative really takes off "
   ]
  },
  {
   "cell_type": "code",
   "execution_count": 706,
   "metadata": {},
   "outputs": [
    {
     "data": {
      "text/html": [
       "4"
      ],
      "text/latex": [
       "4"
      ],
      "text/markdown": [
       "4"
      ],
      "text/plain": [
       "[1] 4"
      ]
     },
     "metadata": {},
     "output_type": "display_data"
    }
   ],
   "source": [
    "data$Time[which.max(diff(diff(data$LogN)))] # This then is a good guess for the last timepoint of the lag phase"
   ]
  },
  {
   "cell_type": "markdown",
   "metadata": {},
   "source": [
    "Now fit the model using these start values:"
   ]
  },
  {
   "cell_type": "code",
   "execution_count": 707,
   "metadata": {
    "scrolled": true
   },
   "outputs": [],
   "source": [
    "fit_gompertz <- nlsLM(LogN ~ gompertz_model(t = Time, r_max, K, N_0, t_lag), data,\n",
    "      list(t_lag=t_lag_start, r_max=r_max_start, N_0 = N_0_start, K = K_start))"
   ]
  },
  {
   "cell_type": "markdown",
   "metadata": {},
   "source": [
    "You might one or more warning(s) that the model fitting iterations generated NaNs during the fitting procedure for these data (because at some point the NLLS fitting algorithm \"wandered\" to a combination of K and N_0 values that yields a NaN for log(K/N_0)). \n",
    "\n",
    "You can ignore these warning in this case. But not always &ndash; sometimes these NaNs mean that the equation is wrongly written, or that it generates NaNs across the whole range of the x-values, in which case the model is inappropriate for these data.   "
   ]
  },
  {
   "cell_type": "markdown",
   "metadata": {},
   "source": [
    "Get the model summary:"
   ]
  },
  {
   "cell_type": "code",
   "execution_count": 708,
   "metadata": {},
   "outputs": [
    {
     "data": {
      "text/plain": [
       "\n",
       "Formula: LogN ~ gompertz_model(t = Time, r_max, K, N_0, t_lag)\n",
       "\n",
       "Parameters:\n",
       "      Estimate Std. Error t value Pr(>|t|)    \n",
       "t_lag  4.80680    0.18433   26.08 5.02e-09 ***\n",
       "r_max  1.86616    0.08749   21.33 2.45e-08 ***\n",
       "N_0   10.39142    0.05998  173.24 1.38e-15 ***\n",
       "K     15.54956    0.05056  307.57  < 2e-16 ***\n",
       "---\n",
       "Signif. codes:  0 ‘***’ 0.001 ‘**’ 0.01 ‘*’ 0.05 ‘.’ 0.1 ‘ ’ 1\n",
       "\n",
       "Residual standard error: 0.09418 on 8 degrees of freedom\n",
       "\n",
       "Number of iterations to convergence: 10 \n",
       "Achieved convergence tolerance: 1.49e-08\n"
      ]
     },
     "metadata": {},
     "output_type": "display_data"
    }
   ],
   "source": [
    "summary(fit_gompertz)"
   ]
  },
  {
   "cell_type": "markdown",
   "metadata": {},
   "source": [
    "And see how the fits of the two nonlinear models compare:"
   ]
  },
  {
   "cell_type": "code",
   "execution_count": 709,
   "metadata": {},
   "outputs": [
    {
     "data": {
      "image/png": "[encoded data removed]",
      "text/plain": [
       "plot without title"
      ]
     },
     "metadata": {
      "image/png": {
       "height": 240,
       "width": 240
      }
     },
     "output_type": "display_data"
    }
   ],
   "source": [
    "timepoints <- seq(0, 24, 0.1)\n",
    "\n",
    "logistic_points <- log(logistic_model(t = timepoints, \n",
    "          r_max = coef(fit_logistic)[\"r_max\"], \n",
    "          K = coef(fit_logistic)[\"K\"], \n",
    "          N_0 = coef(fit_logistic)[\"N_0\"]))\n",
    "\n",
    "gompertz_points <- gompertz_model(t = timepoints, \n",
    "         r_max = coef(fit_gompertz)[\"r_max\"], \n",
    "         K = coef(fit_gompertz)[\"K\"], \n",
    "         N_0 = coef(fit_gompertz)[\"N_0\"], \n",
    "         t_lag = coef(fit_gompertz)[\"t_lag\"])\n",
    "\n",
    "df1 <- data.frame(timepoints, logistic_points)\n",
    "df1$model <- \"Logistic model\"\n",
    "names(df1) <- c(\"Time\", \"LogN\", \"model\")\n",
    "\n",
    "df2 <- data.frame(timepoints, gompertz_points)\n",
    "df2$model <- \"Gompertz model\"\n",
    "names(df2) <- c(\"Time\", \"LogN\", \"model\")\n",
    "\n",
    "model_frame <- rbind(df1, df2)\n",
    "\n",
    "ggplot(data, aes(x = Time, y = LogN)) +\n",
    " geom_point(size = 3) +\n",
    " geom_line(data = model_frame, aes(x = Time, y = LogN, col = model), size = 1) +\n",
    " theme_bw() + # make the background white\n",
    " theme(aspect.ratio=1)+ # make the plot square \n",
    " labs(x = \"Time\", y = \"log(Abundance)\")"
   ]
  },
  {
   "cell_type": "markdown",
   "metadata": {},
   "source": [
    "Clearly, the Gompertz model fits way better than the logistic growth equation in this case! Note also that there is a big difference in the fitted value of $r_{max}$ from the two models; the value is much lower from the Logistic model because it ignores the lag phase, including it into the exponential growth phase. \n",
    "\n",
    "You can now perform model selection like you did above in the allometric scaling example. "
   ]
  },
  {
   "cell_type": "markdown",
   "metadata": {},
   "source": [
    "### Exercises\n",
    "\n",
    "(a) Calculate the confidence intervals on the parameters of each of the two fitted models, and use model selection (using AIC and/or BIC) as you did before to see if you can determine the best-fitting model among the three.\n",
    "\n",
    "(b) Alternatively, for a different random sequence of fluctuations, one or more of the models may fail to fit (a `singular gradiant matrix` error). Try repeating the above fitting with a different random seed (change the integers given to the `random.seed( )` function), or increase the sampling error by increasing the standard deviation and see if it happens. If/when the NLLS optimization does fail to converge (the RSS minimum was not found), you can try to fix it by changing the starting values. \n",
    "\n",
    "(c) Repeat the model comparison exercise 1000 times (You will have to write a loop), and determine if/whether one model generally wins more often than the others. Note that each run will generate a slightly different dataset, because we are adding a vector of random errors every time the \"data\" are generated. This may result in failure of the NLLS fitting to converge, in which case you will need to use the [`try()` or `tryCatch` functions](https://nbviewer.jupyter.org/github/mhasoba/TheMulQuaBio/blob/master/notebooks/07-R.ipynb).\n",
    "\n",
    "(d) Repeat (b), but increase the error by increasing the standard deviation of the normal error distribution, and see if there are differences in the robustness of the models to sampling/experimental errors. You may also want to try changing the distribution of the errors to some non-normal distribution and see what happens."
   ]
  },
  {
   "cell_type": "markdown",
   "metadata": {},
   "source": [
    "## Some tips and tricks for NLLS fitting \n",
    "\n",
    "(Model-Fitting-NLLS-Starting-Values)=\n",
    "### Starting values \n",
    "\n",
    "The main challenge for NLLS fitting is finding starting (initial) values for the parameters, which the algorithm needs to proceed with the fitting/optimization. Inappropriate starting values can result in the algorithm finding parameter combinations represent convergence to a local optimum rather than the (globally) optimal solution. Starting parameter estimates can also result in or complete \"divergence\", i.e., the search results in a combination of parameters that cause mathematical \"singularity\" (e.g., log(0) or division by zero).\n",
    "\n",
    "#### Obtaining them \n",
    "\n",
    "Finding the starting values is a [bit of an art](https://en.wikipedia.org/wiki/Non-linear_least_squares#Initial_parameter_estimates). There is no method for finding starting values that works universally (across different types of models). \n",
    "\n",
    "The one universal rule though, is that finding starting values requires you to understand the meaning of each of the parameters in your model. So, for example, in the population [growth rate example](Model-Fitting-R-Population-Growth), the parameters in both the nonlinear models that [we covered](Model-Fitting-R-Population-Growth) (Logistic growth, eqn. {eq}`eq:logist_growth_sol` , Gompertz model; eqn. {eq}`eq:Gompertz`) have a clear meaning.\n",
    "\n",
    "Furthermore, you will typically need to determine starting values *specific* to each model *and* each dataset that that you are wanting to fit that model to (e.g., every distinct functional response dataset to be [fitted to the Holling Type II model](Miniproject-FR-Models)). To do so, understanding how each parameter in the model corresponds to features of the actual data is really necessary. \n",
    "\n",
    "For example, in the Gompertz population growth rate model (eqn. {eq}`eq:Gompertz`), your starting values generator function would, for each dataset,   \n",
    "*  Calculate a starting value for $r_{max}$ by searching for the steepest slope of the growth curve (e.g., with a rolling OLS regression)\n",
    "* Calculate a starting value of $t_{lag}$ by intersecting the fitted line with the x (time)-axis \n",
    "* Calculate a starting value for the asymptote $K$ as the highest data (abundance) value in the dataset. \n",
    "\n",
    "```{tip}\n",
    "Ideally, you should write a separate a function that calculates starting values for the model parameters.\n",
    "```\n",
    "\n",
    "#### Sampling them\n",
    "\n",
    "Once you have worked out how to generate starting values for each non-linear model and dataset, a good next step for optimizing the fitting across multiple datasets (and thus maximize how many datasets are successfully fitted to the model) is to *rerun fitting attempts multiple times, sampling each of the starting values (simultaneously) randomly* (that is, randomly vary the set of starting values a bit each time). This sampling of starting values will increase the likelihood of the NLLS optimization algorithm finding a solution (optimal combination of parameters), and not getting stuck in a combination of parameters somewhere far away from that optimal solution. \n",
    "\n",
    "In particular, \n",
    "* You can choose a Gaussian/Normal distribution if you have high confidence in mean value of parameter, or\n",
    "* You can uniform distribution if you have low confidence in the mean, but higher confidence in the range of values that the parameter can take.\n",
    "In both cases, the *mean* of the sampling distribution will be the starting value you inferred from the model and the data (previous section).\n",
    "\n",
    "Furthermore,\n",
    "* Whichever distribution you choose (gaussian vs uniform), you will need to determine what range of values to restrict each parameter's samples to. In the case of the normal distribution, this is determined by what standard deviation parameter (you choose), and in the case of the uniform distribution, this is determined by what lower and upper bound (you choose). Generally, a good approach is to set the bound to be some *percent* (say 5-10%) of the parameter's (mean) starting value. In both cases the chosen range to restrict the sampling to would typically be some subset of the model's *parameter bounds* (next section).  \n",
    "* *How many times to re-run* the fitting for a single dataset and model?* &ndash; this depends on how \"difficult\" the model is, and how much computational power you have. \n",
    "\n",
    "```{tip}\n",
    "For the sampling of starting values, recall that you learned to generate random numbers from probability distributions in both the [R](R-random-numbers) and [Python](Python-scipy-stats) chapters). \n",
    "```\n",
    "You may also try and use a more sophisticated approach such as [grid searching](https://en.wikipedia.org/wiki/Hyperparameter_optimization#Approaches) for varying your starting values randomly. An example is in the [MLE chapter](ModelFitting-MLE-LikelihoodSurface).\n",
    "\n",
    "### Bounding parameters revisited\n",
    "\n",
    "At the start, we looked at an [example](20-ModelFitting-NLLS:Bounding) of NLLS fitting where we bounded the parameters. It can be a good idea to restrict the range of values that the each of the model's parameters can take *during any one fitting/optimization run*. To \"bound\" a parameter in this way means to give it upper and lower limits. By doing so, during one optimization/fitting (e.g., one call to `nlsLM`, to fit one model, to one dataset), the fitting algorithm does not allow a parameter to go outside some limits. This reduces the chances of the optimization getting stuck too far from the solution, or failing completely due to some mathematical singularity (e.g., log(0)).\n",
    "\n",
    "The bounds are typically fixed for each parameter of a model *at the level of the model* (e.g., they do not change based on each dataset). For example, in the Gompertz model for growth rates (eqn. {eq}`eq:Gompertz`), you can limit the growth rate parameter to never be negative (the bounds would be $[0,\\infty]$), or restrict it further to be some value between zero and an upper limit (say, 10) that you know organismal growth rates cannot exceed (the bounds would in this case would be $[0,10]$). \n",
    "\n",
    "However, as we saw in the Michaelis-Menten model fitting [example](20-ModelFitting-NLLS:Bounding), bounding the parameters too much (excessively narrow ranges) can result in poor solutions because the algorithm cannot explore sufficient parameter space.   \n",
    "\n",
    "```{tip}\n",
    "The values of the parameter bounds you choose, of course, may depend on the *units of measurement* of the data. For example, in [SI](https://en.wikipedia.org/wiki/International_System_of_Units), growth rates in the Logistic or Gompertz models would be in units of s$^{-1}$).\n",
    "```\n",
    "Irrespective of which computer language the NLLS fitting algorithm is implemented in (`nlsLM`  in R or `lmfit` in Python), the fitting command/method will have options for setting the parameter bounds. In particular,\n",
    "\n",
    "* For `nlsLM` in R, look up https://www.rdocumentation.org/packages/minpack.lm/versions/1.2-1/topics/nlsLM (the `lower` and `upper` arguments to the function). \n",
    "\n",
    "* For `lmfit` in Python, look up https://lmfit.github.io/lmfit-py/parameters.html (and in particular, https://lmfit.github.io/lmfit-py/parameters.html#lmfit.parameter.Parameter) (the `min` and `max` arguments).\n",
    "\n",
    "*Bounding the parameter values has nothing to do, per se, with sampling the starting values of each parameter, though if you choose to sample starting values (explained in previous section), you need to make sure that the samples don't exceed the pre-set bounds (explained in this section).*\n",
    "\n",
    "```{note}\n",
    "Python's `lmfit` has an option to also internally vary the parameter. So by using a sampling approach as described in the previous section, *and* allowing the parameter to vary (note that `vary=True` is the default) within `lmfit`, you will be in essence be imposing sampling twice. This may or may not improve fitting performance &ndash; try it out both ways.\n",
    "```"
   ]
  },
  {
   "cell_type": "markdown",
   "metadata": {},
   "source": [
    "## Readings and Resources\n",
    " \n",
    "* Motulsky, Harvey, and Arthur Christopoulos. Fitting models to biological data using linear and nonlinear regression: a practical guide to curve fitting. OUP USA, 2004: <https://www.facm.ucl.ac.be/cooperation/Vietnam/WBI-Vietnam-October-2011/Modelling/RegressionBook.pdf>\n",
    "\n",
    "* These are a pretty good series of notes on NLLS (even if you are using R instead of Python): <https://lmfit.github.io/lmfit-py/intro.html>\n",
    "\n",
    "* Another technical description of NLLS  algorithms: <https://www.gnu.org/software/gsl/doc/html/nls.html>\n",
    "\n",
    "* Johnson, J. B. & Omland, K. S. 2004 Model selection in ecology and evolution. Trends Ecol. Evol. 19, 101–108.\n",
    "\n",
    "* The *nlstools* package for NLLS fit diagnostics: <https://rdrr.io/rforge/nlstools>\n",
    "    * The original paper: <http://dx.doi.org/10.18637/jss.v066.i05>"
   ]
  }
 ],
 "metadata": {
  "kernelspec": {
   "display_name": "R",
   "language": "R",
   "name": "ir"
  },
  "language_info": {
   "codemirror_mode": "r",
   "file_extension": ".r",
   "mimetype": "text/x-r-source",
   "name": "R",
   "pygments_lexer": "r",
   "version": "4.0.3"
  },
  "latex_envs": {
   "LaTeX_envs_menu_present": true,
   "autoclose": false,
   "autocomplete": false,
   "bibliofile": "biblio.bib",
   "cite_by": "apalike",
   "current_citInitial": 1,
   "eqLabelWithNumbers": true,
   "eqNumInitial": 1,
   "hotkeys": {
    "equation": "Ctrl-E",
    "itemize": "Ctrl-I"
   },
   "labels_anchors": false,
   "latex_user_defs": false,
   "report_style_numbering": false,
   "user_envs_cfg": false
  },
  "tags": [
   "remove-cell"
  ],
  "toc": {
   "base_numbering": 1,
   "nav_menu": {},
   "number_sections": true,
   "sideBar": false,
   "skip_h1_title": false,
   "title_cell": "Table of Contents",
   "title_sidebar": "Contents",
   "toc_cell": false,
   "toc_position": {
    "height": "421.6px",
    "left": "10px",
    "top": "150px",
    "width": "477.2px"
   },
   "toc_section_display": false,
   "toc_window_display": true
  }
 },
 "nbformat": 4,
 "nbformat_minor": 4
}
