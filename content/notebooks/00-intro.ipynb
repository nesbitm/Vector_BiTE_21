{
 "cells": [
  {
   "cell_type": "markdown",
   "metadata": {},
   "source": [
<<<<<<< HEAD
    "# Welcome to the VectorBiTE 2021 Training Workshop!\n",
    "\n",
    "*Please visit the [new soon to be changed landing page](https://vectorbite.github.io/VBiTraining2) first if you have not already. It includes the workshop schedule and important instructions, including how to prepare for the workshop.*"
=======
    "# Welcome to the <img style='display:inline;' src=\"graphics/VB_logo.jpg\" alt=\"VBiTE Logo\" width=\"75\"> Training Workshop!  <span class=\"tocSkip\">\n",
    "\n",
    "*Please visit the [new soon to be changed landing page](https://vectorbite.github.io/VBiTraining2) first if you have not already. It includes the workshop schedule and important instructions, including how to prepare for the workshop.*"
   ]
  },
  {
   "cell_type": "markdown",
   "metadata": {
    "toc": true
   },
   "source": [
    "<h1>Table of Contents<span class=\"tocSkip\"></span></h1>\n",
    "<div class=\"toc\"><ul class=\"toc-item\"><li><span><a href=\"#Introduction\" data-toc-modified-id=\"Introduction-1\"><span class=\"toc-item-num\">1&nbsp;&nbsp;</span>Introduction</a></span></li><li><span><a href=\"#Keeping-your-workflow-organized\" data-toc-modified-id=\"Keeping-your-workflow-organized-2\"><span class=\"toc-item-num\">2&nbsp;&nbsp;</span>Keeping your workflow organized</a></span></li><li><span><a href=\"#Some-conventions\" data-toc-modified-id=\"Some-conventions-3\"><span class=\"toc-item-num\">3&nbsp;&nbsp;</span>Some conventions</a></span></li><li><span><a href=\"#Other-Preliminaries\" data-toc-modified-id=\"Other-Preliminaries-4\"><span class=\"toc-item-num\">4&nbsp;&nbsp;</span>Other Preliminaries</a></span></li></ul></div>"
>>>>>>> 2ea2c2a1c69663a5e7255a2da7760951cb94e90d
   ]
  },
  {
   "cell_type": "markdown",
   "metadata": {},
   "source": [
    "## Introduction\n",
    "\n",
<<<<<<< HEAD
    "These [jupyter](https://jupyter.org/) notebooks contain the content of the [VectorBiTE 2021 Training workshop](https://vectorbite.github.io/VBiTraining2/). All these materials  are available at a [git repository](https://github.com/mhasoba/TheMulQuaBio).\n",
=======
    "These [jupyter](https://jupyter.org/) notebooks contain the content of the [VectorBiTE 2021 Training workshop](https://vectorbite.github.io/VBiTraining2/). All these materials  are available at a [git repository](https://github.com/vectorbite/VBiTraining2).\n",
>>>>>>> 2ea2c2a1c69663a5e7255a2da7760951cb94e90d
    "\n",
    "These notebooks are accompanied by data and code on which you can practice your skills during the training sessions and in your own time.  If you do not use git, you may download the code, data, these notes, and other course materials from the repository at one go by clicking on the green \"Clone or download\" button. You can then unzip the downloaded .zip and grab the files you need.\n",
    "\n",
    "It is important that you work through the exercises and problems in each chapter/section. This document does not tell you every single thing you need to know to perform the exercises in it. In programming and computing, you learn faster by trying to solve problems (including computer crashes!) on your own, often by liberally googling the problem!\n",
    "\n",
    "This training is specifically for the [VectorBiTE 2021 Training](https://vectorbite.github.io/VBiTraining2/). If you need any more in depth explanations about computational biology/ecology please visit the [MulQuaBio](https://mhasoba.github.io/TheMulQuaBio/intro.html) for the full course. This will have more examples and explanations of skills that are assumed as a preliminary to this training.\n",
    "\n",
    "## Keeping your workflow organized\n",
    "\n",
    "In the training sessions, you will practice many examples where you are required to write large blocks of code. Please get into the habit of writing code into text files with an appropriate extension (e.g., `.R` for `R` code, `.py` for `python` code, etc.). Furthermore, please keep all your code files organized in one or more directories (e.g., named `code`). Similarly, some of these scripts will take data files as inputs, and output some results in the form of text or graphics. Please keep these inputs and outputs organized as well, in separate directories (e.g., named `data` and `results`) respectively. \n",
    "\n",
    "Thus in general, \n",
    "\n",
    "> * *Create separate `code`, `data`, `results` directories* within your VBiTE Training week directory, and set your `R` working directory (using `setwd()`) to `code`. \n",
    ">\n",
    "> * *Build separate R scripts for each of the examples given within various topics*.\n",
    " \n",
    "We will help you get set up and abide by this project organization and \"workflow\". Examples of this are in the [R pre-work](https://mhasoba.github.io/TheMulQuaBio/notebooks/07-R.html). Specifically, [here](https://mhasoba.github.io/TheMulQuaBio/notebooks/07-R.html#practicals).\n",
    "\n",
    "## Conventions used in this document\n",
    "\n",
<<<<<<< HEAD
    "Throughout these sessions, directory paths will be specified in UNIX (Mac, Linux) style, using `/` instead of the `\\` used in Windows. Also, in general, we will be using [relative paths](https://en.wikipedia.org/wiki/Path_(computing)) throughout the exercises and practicals (more on this later, but google it!).\n",
    "\n",
    "You will find all command line/console arguments, code snippets and output in boxes like this:\n",
    "You will type the commands/code that you see in such boxes into the relevant command line (don't copy-paste - you likely need all the command / syntax typing practice you can get !). \n",
    "\n",
    "Note that the commandline prompt you will see on your own terminal/console will vary with the programming language: `$` for UNIX, `>>>` for Python, `>` for R, etc. \n",
    "\n",
    "Also note that:\n",
    "\n",
    "$\\star$ Lines marked with a star like this will be specific instructions for you to follow\n",
    "\n",
    "\n",
=======
    "## Conventions used in this document\n",
    "\n",
    "Throughout these sessions, directory paths will be specified in UNIX (Mac, Linux) style, using `/` instead of the `\\` used in Windows. Also, in general, we will be using [relative paths](https://en.wikipedia.org/wiki/Path_(computing)) throughout the exercises and practicals (more on this later, but google it!).\n",
    "\n",
    "You will find all command line/console arguments, code snippets and output in boxes like this:\n",
    "You will type the commands/code that you see in such boxes into the relevant command line (don't copy-paste - you likely need all the command / syntax typing practice you can get !). \n",
    "\n",
    "Note that the commandline prompt you will see on your own terminal/console will vary with the programming language: `$` for UNIX, `>>>` for Python, `>` for R, etc. \n",
    "\n",
    "Also note that:\n",
    "\n",
    "$\\star$ Lines marked with a star like this will be specific instructions for you to follow\n",
    "\n",
    "\n",
>>>>>>> 2ea2c2a1c69663a5e7255a2da7760951cb94e90d
    "And there will be notes, tips and warnings that you should pay particular attention to, which will appear like this:  \n",
    "\n",
    "\n",
    "```{note}\n",
    "This is a note\n",
    "```\n",
    "\n",
    "```{tip}\n",
    "This is a tip\n",
    "```\n",
    "\n",
    "```{warning}\n",
    "This is a warning\n",
    "```\n",
    "\n",
    "So here's your first (and perhaps most important) tip:\n",
    "\n",
    "```{tip}\n",
    "**Finding solutions online.**  This document does not tell you every single thing you need to know to perform the exercises in it. In programming and computing, you learn faster by trying to solve problems on your own. The contemporary way to do this is to google the problem! Some suggestions: \n",
    "* Your typical approach should be to serach online the main keywords along the programming language name (e.g., \"unix mv vs cp\" or \"R create empty dataframe\"). \n",
    "* Look for [stackoverflow](https://stackoverflow.com/) or [stackexchange](https://stackexchange.com/) based results in particular. Look for number of endorsements for both the question that has been asked, and for its answer.\n",
    "* Be selective - there will often be multiple solutions to the same issue or problem - don't just blindly use the first one you find. \n",
    "* Also, every time a mysterious, geeky-sounding term like \"relative path\" or \"version control\" appears, please search (e.g., google) it online it as well!\n",
    "\n",
    "## Other Preliminaries \n",
    "\n",
    "You will  learn multiple techniques here (NLLS, MLE and Bayesian methods, etc) through examples. These notes assume that you have already seen [lectures](https://github.com/vectorbite/VBiTraining2/tree/master/lectures) on these and related topics. \n",
    "\n",
    "Final note: you may use [RStudio](https://www.rstudio.com) or any other code editor you prefer.\n",
    "\n",
    "Please proceded to the [next lesson](https://vectorbite.github.io/VBiTraining2/#schedule)."
   ]
  },
  {
   "cell_type": "code",
   "execution_count": null,
   "metadata": {},
   "outputs": [],
   "source": []
  }
 ],
 "metadata": {
  "anaconda-cloud": {},
  "kernelspec": {
   "display_name": "Python 3",
   "language": "python",
   "name": "python3"
  },
  "language_info": {
   "codemirror_mode": {
    "name": "ipython",
    "version": 3
   },
   "file_extension": ".py",
   "mimetype": "text/x-python",
   "name": "python",
   "nbconvert_exporter": "python",
   "pygments_lexer": "ipython3",
   "version": "3.8.5"
  },
  "latex_envs": {
   "LaTeX_envs_menu_present": true,
   "autoclose": false,
   "autocomplete": false,
   "bibliofile": "biblio.bib",
   "cite_by": "apalike",
   "current_citInitial": 1,
   "eqLabelWithNumbers": true,
   "eqNumInitial": 1,
   "hotkeys": {
    "equation": "Ctrl-E",
    "itemize": "Ctrl-I"
   },
   "labels_anchors": false,
   "latex_user_defs": false,
   "report_style_numbering": false,
   "user_envs_cfg": false
  },
  "toc": {
   "base_numbering": 1,
   "nav_menu": {
    "height": "51px",
    "width": "250px"
   },
   "number_sections": true,
   "sideBar": true,
   "skip_h1_title": false,
   "title_cell": "Table of Contents",
   "title_sidebar": "Contents",
   "toc_cell": true,
   "toc_position": {},
   "toc_section_display": "block",
   "toc_window_display": false
  }
 },
 "nbformat": 4,
 "nbformat_minor": 1
}
