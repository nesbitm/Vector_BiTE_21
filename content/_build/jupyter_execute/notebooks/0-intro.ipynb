{
 "cells": [
  {
   "cell_type": "markdown",
   "metadata": {},
   "source": [
    "# Welcome to the VectorBiTE 2021 Training Workshop!\n",
    "\n",
    "*Please visit the [new soon to be changed landing page](https://vectorbite.github.io/VBiTraining2) first if you have not already. It includes the workshop schedule and important instructions, including how to prepare for the workshop.*\n",
    "\n",
    "## Introduction\n",
    "\n",
    "These [jupyter](https://jupyter.org/) notebooks contain the content of the [VectorBiTE 2021 Training workshop](https://vectorbite.github.io/VBiTraining2/). All these materials  are available at a [git repository](https://github.com/mhasoba/TheMulQuaBio).\n",
    "\n",
    "These notebooks are accompanied by data and code on which you can practice your skills during the training sessions and in your own time.  If you do not use git, you may download the code, data, these notes, and other course materials from the repository at one go by clicking on the green \"Clone or download\" button. You can then unzip the downloaded .zip and grab the files you need.\n",
    "\n",
    "It is important that you work through the exercises and problems in each chapter/section. This document does not tell you every single thing you need to know to perform the exercises in it. In programming and computing, you learn faster by trying to solve problems (including computer crashes!) on your own, often by liberally googling the problem!\n",
    "\n",
    "This training is specifically for the [VectorBiTE 2021 Training](https://vectorbite.github.io/VBiTraining2/). If you need any more in depth explanations about computational biology/ecology please visit the [MulQuaBio](https://mhasoba.github.io/TheMulQuaBio/intro.html) for the full course. This will have more examples and explanations of skills that are assumed as a preliminary to this training.\n",
    "\n",
    "## Keeping your workflow organized\n",
    "\n",
    "In the training sessions, you will practice many examples where you are required to write large blocks of code. Please get into the habit of writing code into text files with an appropriate extension (e.g., `.R` for `R` code, `.py` for `python` code, etc.). Furthermore, please keep all your code files organized in one or more directories (e.g., named `code`). Similarly, some of these scripts will take data files as inputs, and output some results in the form of text or graphics. Please keep these inputs and outputs organized as well, in separate directories (e.g., named `data` and `results`) respectively. \n",
    "\n",
    "Thus in general, \n",
    "\n",
    "> * *Create separate `code`, `data`, `results` directories* within your VBiTE Training week directory, and set your `R` working directory (using `setwd()`) to `code`. \n",
    ">\n",
    "> * *Build separate R scripts for each of the examples given within various topics*.\n",
    " \n",
    "We will help you get set up and abide by this project organization and \"workflow\". Examples of this are in the [R pre-work](https://mhasoba.github.io/TheMulQuaBio/notebooks/07-R.html). Specifically, [here](https://mhasoba.github.io/TheMulQuaBio/notebooks/07-R.html#practicals).\n",
    "\n",
    "## Conventions used in this document\n",
    "\n",
    "Throughout these sessions, directory paths will be specified in UNIX (Mac, Linux) style, using `/` instead of the `\\` used in Windows. Also, in general, we will be using [relative paths](https://en.wikipedia.org/wiki/Path_(computing)) throughout the exercises and practicals (more on this later, but google it!).\n",
    "\n",
    "You will find all command line/console arguments, code snippets and output in boxes like this:\n",
    "You will type the commands/code that you see in such boxes into the relevant command line (don't copy-paste - you likely need all the command / syntax typing practice you can get !). \n",
    "\n",
    "Note that the commandline prompt you will see on your own terminal/console will vary with the programming language: `$` for UNIX, `>>>` for Python, `>` for R, etc. \n",
    "\n",
    "Also note that:\n",
    "\n",
    "$\\star$ Lines marked with a star like this will be specific instructions for you to follow"
   ]
  },
  {
   "cell_type": "markdown",
   "metadata": {},
   "source": [
    "And there will be notes, tips and warnings that you should pay particular attention to, which will appear like this:  "
   ]
  },
  {
   "cell_type": "markdown",
   "metadata": {},
   "source": [
    "```{note}\n",
    "This is a note\n",
    "```\n",
    "\n",
    "```{tip}\n",
    "This is a tip\n",
    "```\n",
    "\n",
    "```{warning}\n",
    "This is a warning\n",
    "```\n",
    "\n",
    "So here's your first (and perhaps most important) tip:\n",
    "\n",
    "\n",
    "**Finding solutions online.**  This document does not tell you every single thing you need to know to perform the exercises in it. In programming and computing, you learn faster by trying to solve problems on your own. The contemporary way to do this is to google the problem! Some suggestions: \n",
    "* Your typical approach should be to serach online the main keywords along the programming language name (e.g., \"unix mv vs cp\" or \"R create empty dataframe\"). \n",
    "* Look for [stackoverflow](https://stackoverflow.com/) or [stackexchange](https://stackexchange.com/) based results in particular. Look for number of endorsements for both the question that has been asked, and for its answer.\n",
    "* Be selective - there will often be multiple solutions to the same issue or problem - don't just blindly use the first one you find. \n",
    "* Also, every time a mysterious, geeky-sounding term like \"relative path\" or \"version control\" appears, please search (e.g., google) it online it as well!\n",
    "\n",
    "## Other Preliminaries \n",
    "\n",
    "You will  learn multiple techniques here (NLLS, MLE and Bayesian methods, etc) through examples. These notes assume that you have already seen [lectures](https://github.com/vectorbite/VBiTraining2/tree/master/lectures) on these and related topics. \n",
    "\n",
    "Final note: you may use [RStudio](https://www.rstudio.com) or any other code editor you prefer.\n",
    "\n",
    "Please proceded to the [next lesson](https://vectorbite.github.io/VBiTraining2/#schedule).\n",
    "\n",
    "\n",
    "```python\n",
    "\n",
    "```"
   ]
  },
  {
   "cell_type": "code",
   "execution_count": null,
   "metadata": {},
   "outputs": [],
   "source": []
  },
  {
   "cell_type": "markdown",
   "metadata": {},
   "source": [
    "\n",
    "```{toctree}\n",
    ":hidden:\n",
    ":titlesonly:\n",
    ":caption: Data Wrangling\n",
    "\n",
    "1-Data_R\n",
    "2-Digitizer_explanation\n",
    "```\n",
    "\n",
    "\n",
    "```{toctree}\n",
    ":hidden:\n",
    ":titlesonly:\n",
    ":caption: Model Fitting\n",
    "\n",
    "3-ModelFitting-NLLS\n",
    "4-ModelFitting-MLE\n",
    "5-ModelFitting-Bayesian\n",
    "6-Bootstrap_rTPC_tutorial_Nesbit\n",
    "```\n"
   ]
  }
 ],
 "metadata": {
  "jupytext": {
   "cell_metadata_filter": "-all",
   "notebook_metadata_filter": "-all",
   "text_representation": {
    "extension": ".md",
    "format_name": "markdown"
   }
  },
  "kernelspec": {
   "display_name": "Python 3",
   "language": "python",
   "name": "python3"
  },
  "language_info": {
   "codemirror_mode": {
    "name": "ipython",
    "version": 3
   },
   "file_extension": ".py",
   "mimetype": "text/x-python",
   "name": "python",
   "nbconvert_exporter": "python",
   "pygments_lexer": "ipython3",
   "version": "3.8.5"
  }
 },
 "nbformat": 4,
 "nbformat_minor": 4
}